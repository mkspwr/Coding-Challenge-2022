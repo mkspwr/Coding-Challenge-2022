{
 "cells": [
  {
   "cell_type": "markdown",
   "metadata": {
    "application/vnd.databricks.v1+cell": {
     "inputWidgets": {},
     "nuid": "189601c3-be27-4da5-8cc7-f0b6f87b6102",
     "showTitle": false,
     "title": ""
    }
   },
   "source": [
    "# IMST E-111 Coding Challenge Fall 2021\n",
    "#### Make sure to include any relevant code when providing all answers. \n",
    "Save this as a `.ipynb` file with all results visible and send it to Vasya when you're done.<br>\n",
    "Enter your code into *this* notebook **AND** Enter your name in the following cell (`5 pts`)\n",
    "\n",
    "#### Always show your work, and if there is a question being asked be sure to answer it.\n",
    "You can answer with a comment, print statement or markdown cell <br>(remember a comment is preceded by a hash symbol `#here is my comment`)\n",
    "\n",
    "\n",
    "### Challenge is out of 150 points \n",
    "  * **100 points for the main challenge**\n",
    "  * **50 bonus points for extra credit**\n",
    " \n",
    "#### Notes\n",
    "* Dont worry about missing values, they're addressed in the Extra Credit portion\n",
    "\n",
    "#### Submission\n",
    "* send this completed .ipynb (with all cells run) to vasyatheta@gmail.com with your first and last name in the filename (e.g., `Vasya_Selsov_CodingChallenge_S2022.ipynb`)\n",
    "* If you cant find the location of this notebook you can run the following to find your notebook:<br> \n",
    "`import os`<br>\n",
    "`print(os.getcwd())`<br>\n",
    "Drag and drop that .ipynb file into your email"
   ]
  },
  {
   "cell_type": "code",
   "execution_count": 119,
   "metadata": {},
   "outputs": [],
   "source": [
    "#name: Manoj Sharma"
   ]
  },
  {
   "cell_type": "code",
   "execution_count": 120,
   "metadata": {},
   "outputs": [],
   "source": [
    "%matplotlib inline\n",
    "import numpy as np\n",
    "from sklearn.linear_model import LogisticRegression\n",
    "import matplotlib.pyplot as plt\n",
    "import pandas as pd"
   ]
  },
  {
   "cell_type": "markdown",
   "metadata": {
    "application/vnd.databricks.v1+cell": {
     "inputWidgets": {},
     "nuid": "d9e01958-0f72-4095-a493-f0884466db78",
     "showTitle": false,
     "title": ""
    }
   },
   "source": [
    "### 1. Load your Data and Take a Look\n",
    "\n",
    "&nbsp;&nbsp;&nbsp;&nbsp;&nbsp;&nbsp;**a.** **(`10 pts`)** Load the training data (found in the same github repo as this notebook) into this notebook using Pandas. \n",
    "\n",
    "&nbsp;&nbsp;&nbsp;&nbsp;&nbsp;&nbsp;**b.** **(`5 pts`)** Show the first 10 lines of the data."
   ]
  },
  {
   "cell_type": "code",
   "execution_count": 121,
   "metadata": {},
   "outputs": [],
   "source": [
    "#Loading the data from codingdata.csv file, which is in the same directory as this file\n",
    "#The data is in the form of a csv file, and separater is ','\n",
    "df = pd.read_csv('codingdata.csv', sep=\",\")\n"
   ]
  },
  {
   "cell_type": "code",
   "execution_count": 122,
   "metadata": {},
   "outputs": [
    {
     "data": {
      "text/plain": [
       "(68353, 12)"
      ]
     },
     "execution_count": 122,
     "metadata": {},
     "output_type": "execute_result"
    }
   ],
   "source": [
    "#checking the no. of rows and no. of columns in the dataframe, to check if the data is loaded correctly\n",
    "df.shape"
   ]
  },
  {
   "cell_type": "code",
   "execution_count": 123,
   "metadata": {},
   "outputs": [
    {
     "data": {
      "text/html": [
       "<div>\n",
       "<style scoped>\n",
       "    .dataframe tbody tr th:only-of-type {\n",
       "        vertical-align: middle;\n",
       "    }\n",
       "\n",
       "    .dataframe tbody tr th {\n",
       "        vertical-align: top;\n",
       "    }\n",
       "\n",
       "    .dataframe thead th {\n",
       "        text-align: right;\n",
       "    }\n",
       "</style>\n",
       "<table border=\"1\" class=\"dataframe\">\n",
       "  <thead>\n",
       "    <tr style=\"text-align: right;\">\n",
       "      <th></th>\n",
       "      <th>Email_ID</th>\n",
       "      <th>Email_Type</th>\n",
       "      <th>Subject_Hotness_Score</th>\n",
       "      <th>Email_Source_Type</th>\n",
       "      <th>Customer_Location</th>\n",
       "      <th>Email_Campaign_Type</th>\n",
       "      <th>Total_Past_Communications</th>\n",
       "      <th>Time_Email_sent_Category</th>\n",
       "      <th>Word_Count</th>\n",
       "      <th>Total_Links</th>\n",
       "      <th>Total_Images</th>\n",
       "      <th>Email_Status</th>\n",
       "    </tr>\n",
       "  </thead>\n",
       "  <tbody>\n",
       "    <tr>\n",
       "      <th>0</th>\n",
       "      <td>EMA00081000034500</td>\n",
       "      <td>1</td>\n",
       "      <td>2.2</td>\n",
       "      <td>2</td>\n",
       "      <td>E</td>\n",
       "      <td>2</td>\n",
       "      <td>33.0</td>\n",
       "      <td>1</td>\n",
       "      <td>440</td>\n",
       "      <td>8.0</td>\n",
       "      <td>0.0</td>\n",
       "      <td>0</td>\n",
       "    </tr>\n",
       "    <tr>\n",
       "      <th>1</th>\n",
       "      <td>EMA00081000045360</td>\n",
       "      <td>2</td>\n",
       "      <td>2.1</td>\n",
       "      <td>1</td>\n",
       "      <td>NaN</td>\n",
       "      <td>2</td>\n",
       "      <td>15.0</td>\n",
       "      <td>2</td>\n",
       "      <td>504</td>\n",
       "      <td>5.0</td>\n",
       "      <td>0.0</td>\n",
       "      <td>0</td>\n",
       "    </tr>\n",
       "    <tr>\n",
       "      <th>2</th>\n",
       "      <td>EMA00081000066290</td>\n",
       "      <td>2</td>\n",
       "      <td>0.1</td>\n",
       "      <td>1</td>\n",
       "      <td>B</td>\n",
       "      <td>3</td>\n",
       "      <td>36.0</td>\n",
       "      <td>2</td>\n",
       "      <td>962</td>\n",
       "      <td>5.0</td>\n",
       "      <td>0.0</td>\n",
       "      <td>1</td>\n",
       "    </tr>\n",
       "    <tr>\n",
       "      <th>3</th>\n",
       "      <td>EMA00081000076560</td>\n",
       "      <td>1</td>\n",
       "      <td>3.0</td>\n",
       "      <td>2</td>\n",
       "      <td>E</td>\n",
       "      <td>2</td>\n",
       "      <td>25.0</td>\n",
       "      <td>2</td>\n",
       "      <td>610</td>\n",
       "      <td>16.0</td>\n",
       "      <td>0.0</td>\n",
       "      <td>0</td>\n",
       "    </tr>\n",
       "    <tr>\n",
       "      <th>4</th>\n",
       "      <td>EMA00081000109720</td>\n",
       "      <td>1</td>\n",
       "      <td>0.0</td>\n",
       "      <td>2</td>\n",
       "      <td>C</td>\n",
       "      <td>3</td>\n",
       "      <td>18.0</td>\n",
       "      <td>2</td>\n",
       "      <td>947</td>\n",
       "      <td>4.0</td>\n",
       "      <td>0.0</td>\n",
       "      <td>0</td>\n",
       "    </tr>\n",
       "    <tr>\n",
       "      <th>5</th>\n",
       "      <td>EMA00081000131660</td>\n",
       "      <td>1</td>\n",
       "      <td>1.5</td>\n",
       "      <td>1</td>\n",
       "      <td>G</td>\n",
       "      <td>2</td>\n",
       "      <td>NaN</td>\n",
       "      <td>2</td>\n",
       "      <td>416</td>\n",
       "      <td>11.0</td>\n",
       "      <td>0.0</td>\n",
       "      <td>0</td>\n",
       "    </tr>\n",
       "    <tr>\n",
       "      <th>6</th>\n",
       "      <td>EMA00081000160500</td>\n",
       "      <td>1</td>\n",
       "      <td>3.2</td>\n",
       "      <td>1</td>\n",
       "      <td>E</td>\n",
       "      <td>2</td>\n",
       "      <td>34.0</td>\n",
       "      <td>3</td>\n",
       "      <td>116</td>\n",
       "      <td>4.0</td>\n",
       "      <td>0.0</td>\n",
       "      <td>0</td>\n",
       "    </tr>\n",
       "    <tr>\n",
       "      <th>7</th>\n",
       "      <td>EMA00081000269630</td>\n",
       "      <td>1</td>\n",
       "      <td>0.7</td>\n",
       "      <td>2</td>\n",
       "      <td>G</td>\n",
       "      <td>2</td>\n",
       "      <td>21.0</td>\n",
       "      <td>2</td>\n",
       "      <td>1241</td>\n",
       "      <td>6.0</td>\n",
       "      <td>2.0</td>\n",
       "      <td>0</td>\n",
       "    </tr>\n",
       "    <tr>\n",
       "      <th>8</th>\n",
       "      <td>EMA00081000287790</td>\n",
       "      <td>1</td>\n",
       "      <td>2.0</td>\n",
       "      <td>1</td>\n",
       "      <td>G</td>\n",
       "      <td>2</td>\n",
       "      <td>NaN</td>\n",
       "      <td>3</td>\n",
       "      <td>655</td>\n",
       "      <td>11.0</td>\n",
       "      <td>4.0</td>\n",
       "      <td>0</td>\n",
       "    </tr>\n",
       "    <tr>\n",
       "      <th>9</th>\n",
       "      <td>EMA00081000367310</td>\n",
       "      <td>2</td>\n",
       "      <td>0.5</td>\n",
       "      <td>1</td>\n",
       "      <td>G</td>\n",
       "      <td>2</td>\n",
       "      <td>40.0</td>\n",
       "      <td>3</td>\n",
       "      <td>655</td>\n",
       "      <td>11.0</td>\n",
       "      <td>0.0</td>\n",
       "      <td>0</td>\n",
       "    </tr>\n",
       "  </tbody>\n",
       "</table>\n",
       "</div>"
      ],
      "text/plain": [
       "            Email_ID  Email_Type  Subject_Hotness_Score  Email_Source_Type  \\\n",
       "0  EMA00081000034500           1                    2.2                  2   \n",
       "1  EMA00081000045360           2                    2.1                  1   \n",
       "2  EMA00081000066290           2                    0.1                  1   \n",
       "3  EMA00081000076560           1                    3.0                  2   \n",
       "4  EMA00081000109720           1                    0.0                  2   \n",
       "5  EMA00081000131660           1                    1.5                  1   \n",
       "6  EMA00081000160500           1                    3.2                  1   \n",
       "7  EMA00081000269630           1                    0.7                  2   \n",
       "8  EMA00081000287790           1                    2.0                  1   \n",
       "9  EMA00081000367310           2                    0.5                  1   \n",
       "\n",
       "  Customer_Location  Email_Campaign_Type  Total_Past_Communications  \\\n",
       "0                 E                    2                       33.0   \n",
       "1               NaN                    2                       15.0   \n",
       "2                 B                    3                       36.0   \n",
       "3                 E                    2                       25.0   \n",
       "4                 C                    3                       18.0   \n",
       "5                 G                    2                        NaN   \n",
       "6                 E                    2                       34.0   \n",
       "7                 G                    2                       21.0   \n",
       "8                 G                    2                        NaN   \n",
       "9                 G                    2                       40.0   \n",
       "\n",
       "   Time_Email_sent_Category  Word_Count  Total_Links  Total_Images  \\\n",
       "0                         1         440          8.0           0.0   \n",
       "1                         2         504          5.0           0.0   \n",
       "2                         2         962          5.0           0.0   \n",
       "3                         2         610         16.0           0.0   \n",
       "4                         2         947          4.0           0.0   \n",
       "5                         2         416         11.0           0.0   \n",
       "6                         3         116          4.0           0.0   \n",
       "7                         2        1241          6.0           2.0   \n",
       "8                         3         655         11.0           4.0   \n",
       "9                         3         655         11.0           0.0   \n",
       "\n",
       "   Email_Status  \n",
       "0             0  \n",
       "1             0  \n",
       "2             1  \n",
       "3             0  \n",
       "4             0  \n",
       "5             0  \n",
       "6             0  \n",
       "7             0  \n",
       "8             0  \n",
       "9             0  "
      ]
     },
     "execution_count": 123,
     "metadata": {},
     "output_type": "execute_result"
    }
   ],
   "source": [
    "#checking the data types of each column in the dataframe, and showing first 10 rows\n",
    "df.head(10)"
   ]
  },
  {
   "cell_type": "code",
   "execution_count": 124,
   "metadata": {},
   "outputs": [
    {
     "data": {
      "text/plain": [
       "Email_ID                      object\n",
       "Email_Type                     int64\n",
       "Subject_Hotness_Score        float64\n",
       "Email_Source_Type              int64\n",
       "Customer_Location             object\n",
       "Email_Campaign_Type            int64\n",
       "Total_Past_Communications    float64\n",
       "Time_Email_sent_Category       int64\n",
       "Word_Count                     int64\n",
       "Total_Links                  float64\n",
       "Total_Images                 float64\n",
       "Email_Status                   int64\n",
       "dtype: object"
      ]
     },
     "execution_count": 124,
     "metadata": {},
     "output_type": "execute_result"
    }
   ],
   "source": [
    "#As we can see the data was loaded correctly, and we are able to see the columns and rows of the dataframe\n",
    "#Now we will check the data types of each column in the dataframe\n",
    "df.dtypes"
   ]
  },
  {
   "cell_type": "markdown",
   "metadata": {
    "application/vnd.databricks.v1+cell": {
     "inputWidgets": {},
     "nuid": "f71154a2-ac71-42a9-9f68-f74c8818dab7",
     "showTitle": false,
     "title": ""
    }
   },
   "source": [
    "### 2.  Define and describe your target variable\n",
    "The `email status` column contains three values with the following definitions.  \n",
    "`0=ignored` `1=read` and `2=converted`\n",
    "* Ignored means that the customer did not interact with the email\n",
    "* Read means that a customer opened the email\n",
    "* Converted means that the customer clicked on the link for the product page within the email. \n",
    "\n",
    "The company considers an `email_status` of `2` as a conversion, (statuses 0 and 1 are non-conversions)."
   ]
  },
  {
   "cell_type": "markdown",
   "metadata": {
    "application/vnd.databricks.v1+cell": {
     "inputWidgets": {},
     "nuid": "e7f9719b-1831-4ef0-8600-c02a999fa3ce",
     "showTitle": false,
     "title": ""
    }
   },
   "source": [
    "&nbsp;&nbsp;&nbsp;&nbsp;&nbsp;&nbsp;**a.** **(`10 pts`)** Create a new column called `conversion` that has a value of `1` when the email was follwed by a conversion and is `0` otherwise."
   ]
  },
  {
   "cell_type": "code",
   "execution_count": 125,
   "metadata": {
    "application/vnd.databricks.v1+cell": {
     "inputWidgets": {},
     "nuid": "05d68f3c-01b1-4c7f-b3fd-ac3e14511861",
     "showTitle": false,
     "title": ""
    }
   },
   "outputs": [],
   "source": [
    "df['conversion'] = df['Email_Status'].apply(lambda x: 1 if x == 2 else 0)"
   ]
  },
  {
   "cell_type": "markdown",
   "metadata": {
    "application/vnd.databricks.v1+cell": {
     "inputWidgets": {},
     "nuid": "659af248-f7af-4df9-aa2a-f72ff215fce4",
     "showTitle": false,
     "title": ""
    }
   },
   "source": [
    "&nbsp;&nbsp;&nbsp;&nbsp;&nbsp;&nbsp;**b.**  **(`10 pts`)** How many conversions are in this dataset?<br>"
   ]
  },
  {
   "cell_type": "code",
   "execution_count": 126,
   "metadata": {
    "application/vnd.databricks.v1+cell": {
     "inputWidgets": {},
     "nuid": "be5bbcd8-88e4-4236-8d7c-6422a00d491a",
     "showTitle": false,
     "title": ""
    }
   },
   "outputs": [
    {
     "data": {
      "text/plain": [
       "(2373, 13)"
      ]
     },
     "execution_count": 126,
     "metadata": {},
     "output_type": "execute_result"
    }
   ],
   "source": [
    "#how many rows have conversion = 1\n",
    "df[df['conversion'] == 1].shape\n",
    "\n",
    "#total no. of conversions in the dataset are 2373\n"
   ]
  },
  {
   "cell_type": "markdown",
   "metadata": {
    "application/vnd.databricks.v1+cell": {
     "inputWidgets": {},
     "nuid": "2f25e64a-688a-4203-a880-ca8c17f3540b",
     "showTitle": false,
     "title": ""
    }
   },
   "source": [
    "&nbsp;&nbsp;&nbsp;&nbsp;&nbsp;&nbsp;**c.**  **(`10 pts`)** What percent of all emails resulted in a conversion?<br><i>Show output you used to determine this answer and provide your answer as a comment</i>"
   ]
  },
  {
   "cell_type": "code",
   "execution_count": 127,
   "metadata": {
    "application/vnd.databricks.v1+cell": {
     "inputWidgets": {},
     "nuid": "72111f8d-e337-417a-863d-77436b7d5537",
     "showTitle": false,
     "title": ""
    }
   },
   "outputs": [
    {
     "data": {
      "text/plain": [
       "3.4716837593082963"
      ]
     },
     "execution_count": 127,
     "metadata": {},
     "output_type": "execute_result"
    }
   ],
   "source": [
    "#what is the conversion rate of the dataframe by percentage\n",
    "df[df['conversion'] == 1].shape[0]/df.shape[0]*100\n",
    "\n",
    "#The output of the above command is 3.47168%, which means that the conversion rate is 3.47%"
   ]
  },
  {
   "cell_type": "markdown",
   "metadata": {
    "application/vnd.databricks.v1+cell": {
     "inputWidgets": {},
     "nuid": "f207e6a1-20e3-4563-931b-43d9d9272a0a",
     "showTitle": false,
     "title": ""
    }
   },
   "source": [
    "### 3 Exploration"
   ]
  },
  {
   "cell_type": "markdown",
   "metadata": {
    "application/vnd.databricks.v1+cell": {
     "inputWidgets": {},
     "nuid": "e666c416-a222-461b-a060-249c92ca7266",
     "showTitle": false,
     "title": ""
    }
   },
   "source": [
    "&nbsp;&nbsp;&nbsp;&nbsp;&nbsp;&nbsp;**a.** The `Email_Campaign_Type` column captures the campaign under which the email was sent. A campaign is a marketing strategy.\n",
    "\n",
    "&nbsp;&nbsp;&nbsp;&nbsp;&nbsp;&nbsp;&nbsp;&nbsp;&nbsp;&nbsp;&nbsp;&nbsp;**i.**  **(`15 pts`)** Which campaign had the most conversions?"
   ]
  },
  {
   "cell_type": "code",
   "execution_count": 128,
   "metadata": {
    "application/vnd.databricks.v1+cell": {
     "inputWidgets": {},
     "nuid": "a14b43e9-979c-40b8-a14a-1fb5601e9030",
     "showTitle": false,
     "title": ""
    }
   },
   "outputs": [
    {
     "data": {
      "text/plain": [
       "Email_Campaign_Type\n",
       "1     173\n",
       "2     712\n",
       "3    1488\n",
       "Name: conversion, dtype: int64"
      ]
     },
     "execution_count": 128,
     "metadata": {},
     "output_type": "execute_result"
    }
   ],
   "source": [
    "#show no. of conversions by Email_Campaign_Type\n",
    "df.groupby('Email_Campaign_Type').conversion.sum()\n"
   ]
  },
  {
   "cell_type": "markdown",
   "metadata": {
    "application/vnd.databricks.v1+cell": {
     "inputWidgets": {},
     "nuid": "bf2d66b5-cfb6-4a9f-bb23-42fddce0eb72",
     "showTitle": false,
     "title": ""
    }
   },
   "source": [
    "&nbsp;&nbsp;&nbsp;&nbsp;&nbsp;&nbsp;&nbsp;&nbsp;&nbsp;&nbsp;&nbsp;&nbsp;**ii.**  **(`15 pts`)** Which campaign has the highest conversion rate?"
   ]
  },
  {
   "cell_type": "code",
   "execution_count": 129,
   "metadata": {
    "application/vnd.databricks.v1+cell": {
     "inputWidgets": {},
     "nuid": "071e3e06-5957-4bdc-82c1-3924061ac580",
     "showTitle": false,
     "title": ""
    }
   },
   "outputs": [],
   "source": [
    "#which campaigns have the highest conversion percentage based on no. of conversions\n",
    "conversion_rate_by_campaign = df.groupby(\n",
    "    by='Email_Campaign_Type'\n",
    ")['conversion'].sum() / df.groupby(\n",
    "    by='Email_Campaign_Type'\n",
    ")['conversion'].count() * 100.0\n",
    "\n"
   ]
  },
  {
   "cell_type": "code",
   "execution_count": 130,
   "metadata": {},
   "outputs": [
    {
     "data": {
      "text/plain": [
       "Email_Campaign_Type\n",
       "1    23.51%\n",
       "3     7.69%\n",
       "2     1.47%\n",
       "Name: conversion, dtype: object"
      ]
     },
     "execution_count": 130,
     "metadata": {},
     "output_type": "execute_result"
    }
   ],
   "source": [
    "\n",
    "#which campaigns have the highest conversion percentage based on no. of conversions\n",
    "conversion_rate_by_campaign.sort_values(ascending=False).map('{:,.2f}%'.format)\n",
    "\n",
    "#Email_Campaign_Type_1 has the highest conversion rate of 23.5%\n"
   ]
  },
  {
   "cell_type": "markdown",
   "metadata": {
    "application/vnd.databricks.v1+cell": {
     "inputWidgets": {},
     "nuid": "228dfaee-79ba-4bf6-b31a-c26e1dff3f29",
     "showTitle": false,
     "title": ""
    }
   },
   "source": [
    "&nbsp;&nbsp;&nbsp;&nbsp;&nbsp;&nbsp;**b**.\n",
    "`Total_Past_Communications` is a count of the number of times the customer has been contacted prior to the current email. \n",
    "\n",
    "&nbsp;&nbsp;&nbsp;&nbsp;&nbsp;&nbsp;&nbsp;&nbsp;&nbsp;&nbsp;&nbsp;&nbsp;**i.** **(`11 pts`)** Create a box plot showing the distribution of `Total_Past_Communications` by `conversion`. \n",
    "\n",
    "&nbsp;&nbsp;&nbsp;&nbsp;&nbsp;&nbsp;&nbsp;&nbsp;&nbsp;&nbsp;&nbsp;&nbsp;**ii** **(`6 pts`)** How do conversions relate to the number of times a customer had been emailed?  Set the title to something that briefly summarizes this relationship. \n",
    "\n",
    "&nbsp;&nbsp;&nbsp;&nbsp;&nbsp;&nbsp;&nbsp;&nbsp;&nbsp;&nbsp;&nbsp;&nbsp;**iii.** **(`2 pts`)** Set the x-label to be `Conversion Status` and the y-label to be `Previous Emails`\n",
    "\n",
    "&nbsp;&nbsp;&nbsp;&nbsp;&nbsp;&nbsp;&nbsp;&nbsp;&nbsp;&nbsp;&nbsp;&nbsp;**iv** **(`1 pts`)** Prevent the default text `'Boxplot grouped by conversion'` from displaying in the title of the boxplot, and do not show extreme values / outliers.  Then show your plot!\n",
    "\n",
    "_note: the output should be one boxplot, rather than one boxplot per sub-question_"
   ]
  },
  {
   "cell_type": "code",
   "execution_count": 131,
   "metadata": {},
   "outputs": [
    {
     "data": {
      "image/png": "[encoded data removed]",
      "text/plain": [
       "<Figure size 720x504 with 1 Axes>"
      ]
     },
     "metadata": {
      "needs_background": "light"
     },
     "output_type": "display_data"
    }
   ],
   "source": [
    "ax = df[['conversion', 'Total_Past_Communications']].boxplot(\n",
    "    by='conversion',\n",
    "    showfliers=False,\n",
    "    figsize=(10, 7)\n",
    ")\n",
    "\n",
    "ax.set_xlabel('Conversion Status')\n",
    "ax.set_ylabel('Previous Emails')\n",
    "ax.set_title('More emails result in higher conversion')\n",
    "\n",
    "plt.suptitle(\"Hint : Send more emails to get more conversions\")\n",
    "plt.show()"
   ]
  },
  {
   "cell_type": "markdown",
   "metadata": {},
   "source": [
    "***\n",
    "You're done!  You can relax and submit this assignment! <br>If you're feeling ambitious, you can try your hand at the _extra credit_ portion below.  "
   ]
  },
  {
   "cell_type": "markdown",
   "metadata": {
    "application/vnd.databricks.v1+cell": {
     "inputWidgets": {},
     "nuid": "180af1b5-c419-466e-8ed4-3ac0d60ddbae",
     "showTitle": false,
     "title": ""
    }
   },
   "source": [
    "***\n",
    "# Extra Credit: Build, Interpret and Assess a Machine Learning Model to Predict Conversion Rate\n",
    "\n",
    "**1.  Data Cleaning & Prep** \n",
    "We'll be encoding a categorical variable, joining it to all of our numerical variables and generating a train-test split to train and test our model.<br>"
   ]
  },
  {
   "cell_type": "markdown",
   "metadata": {},
   "source": [
    "&nbsp;&nbsp;&nbsp;&nbsp;&nbsp;&nbsp;**a.** **(`5 pts`)** Which columns are categorical columns and which are numerical? Create a list of categorical column names and a list of numerical column names. Ignore the following columns: `Email_ID`, `Email_Status`, `conversion`.  You should have ten columns to categorize.  Save each list to a variable (e.g., `my_var = ['a', 'b', 'c']`)"
   ]
  },
  {
   "cell_type": "code",
   "execution_count": 132,
   "metadata": {
    "application/vnd.databricks.v1+cell": {
     "inputWidgets": {},
     "nuid": "20927b18-3168-42ae-a869-378f470a5fa3",
     "showTitle": false,
     "title": ""
    }
   },
   "outputs": [
    {
     "data": {
      "text/html": [
       "<div>\n",
       "<style scoped>\n",
       "    .dataframe tbody tr th:only-of-type {\n",
       "        vertical-align: middle;\n",
       "    }\n",
       "\n",
       "    .dataframe tbody tr th {\n",
       "        vertical-align: top;\n",
       "    }\n",
       "\n",
       "    .dataframe thead th {\n",
       "        text-align: right;\n",
       "    }\n",
       "</style>\n",
       "<table border=\"1\" class=\"dataframe\">\n",
       "  <thead>\n",
       "    <tr style=\"text-align: right;\">\n",
       "      <th></th>\n",
       "      <th>Email_Type</th>\n",
       "      <th>Subject_Hotness_Score</th>\n",
       "      <th>Email_Source_Type</th>\n",
       "      <th>Email_Campaign_Type</th>\n",
       "      <th>Total_Past_Communications</th>\n",
       "      <th>Time_Email_sent_Category</th>\n",
       "      <th>Word_Count</th>\n",
       "      <th>Total_Links</th>\n",
       "      <th>Total_Images</th>\n",
       "      <th>Email_Status</th>\n",
       "      <th>conversion</th>\n",
       "    </tr>\n",
       "  </thead>\n",
       "  <tbody>\n",
       "    <tr>\n",
       "      <th>count</th>\n",
       "      <td>68353.000000</td>\n",
       "      <td>68353.000000</td>\n",
       "      <td>68353.000000</td>\n",
       "      <td>68353.000000</td>\n",
       "      <td>61528.000000</td>\n",
       "      <td>68353.000000</td>\n",
       "      <td>68353.000000</td>\n",
       "      <td>66152.000000</td>\n",
       "      <td>66676.000000</td>\n",
       "      <td>68353.000000</td>\n",
       "      <td>68353.000000</td>\n",
       "    </tr>\n",
       "    <tr>\n",
       "      <th>mean</th>\n",
       "      <td>1.285094</td>\n",
       "      <td>1.095481</td>\n",
       "      <td>1.456513</td>\n",
       "      <td>2.272234</td>\n",
       "      <td>28.933250</td>\n",
       "      <td>1.999298</td>\n",
       "      <td>699.931751</td>\n",
       "      <td>10.429526</td>\n",
       "      <td>3.550678</td>\n",
       "      <td>0.230934</td>\n",
       "      <td>0.034717</td>\n",
       "    </tr>\n",
       "    <tr>\n",
       "      <th>std</th>\n",
       "      <td>0.451462</td>\n",
       "      <td>0.997578</td>\n",
       "      <td>0.498109</td>\n",
       "      <td>0.468680</td>\n",
       "      <td>12.536518</td>\n",
       "      <td>0.631103</td>\n",
       "      <td>271.719440</td>\n",
       "      <td>6.383270</td>\n",
       "      <td>5.596983</td>\n",
       "      <td>0.497032</td>\n",
       "      <td>0.183063</td>\n",
       "    </tr>\n",
       "    <tr>\n",
       "      <th>min</th>\n",
       "      <td>1.000000</td>\n",
       "      <td>0.000000</td>\n",
       "      <td>1.000000</td>\n",
       "      <td>1.000000</td>\n",
       "      <td>0.000000</td>\n",
       "      <td>1.000000</td>\n",
       "      <td>40.000000</td>\n",
       "      <td>1.000000</td>\n",
       "      <td>0.000000</td>\n",
       "      <td>0.000000</td>\n",
       "      <td>0.000000</td>\n",
       "    </tr>\n",
       "    <tr>\n",
       "      <th>25%</th>\n",
       "      <td>1.000000</td>\n",
       "      <td>0.200000</td>\n",
       "      <td>1.000000</td>\n",
       "      <td>2.000000</td>\n",
       "      <td>20.000000</td>\n",
       "      <td>2.000000</td>\n",
       "      <td>521.000000</td>\n",
       "      <td>6.000000</td>\n",
       "      <td>0.000000</td>\n",
       "      <td>0.000000</td>\n",
       "      <td>0.000000</td>\n",
       "    </tr>\n",
       "    <tr>\n",
       "      <th>50%</th>\n",
       "      <td>1.000000</td>\n",
       "      <td>0.800000</td>\n",
       "      <td>1.000000</td>\n",
       "      <td>2.000000</td>\n",
       "      <td>28.000000</td>\n",
       "      <td>2.000000</td>\n",
       "      <td>694.000000</td>\n",
       "      <td>9.000000</td>\n",
       "      <td>0.000000</td>\n",
       "      <td>0.000000</td>\n",
       "      <td>0.000000</td>\n",
       "    </tr>\n",
       "    <tr>\n",
       "      <th>75%</th>\n",
       "      <td>2.000000</td>\n",
       "      <td>1.800000</td>\n",
       "      <td>2.000000</td>\n",
       "      <td>3.000000</td>\n",
       "      <td>38.000000</td>\n",
       "      <td>2.000000</td>\n",
       "      <td>880.000000</td>\n",
       "      <td>14.000000</td>\n",
       "      <td>5.000000</td>\n",
       "      <td>0.000000</td>\n",
       "      <td>0.000000</td>\n",
       "    </tr>\n",
       "    <tr>\n",
       "      <th>max</th>\n",
       "      <td>2.000000</td>\n",
       "      <td>5.000000</td>\n",
       "      <td>2.000000</td>\n",
       "      <td>3.000000</td>\n",
       "      <td>67.000000</td>\n",
       "      <td>3.000000</td>\n",
       "      <td>1316.000000</td>\n",
       "      <td>49.000000</td>\n",
       "      <td>45.000000</td>\n",
       "      <td>2.000000</td>\n",
       "      <td>1.000000</td>\n",
       "    </tr>\n",
       "  </tbody>\n",
       "</table>\n",
       "</div>"
      ],
      "text/plain": [
       "         Email_Type  Subject_Hotness_Score  Email_Source_Type  \\\n",
       "count  68353.000000           68353.000000       68353.000000   \n",
       "mean       1.285094               1.095481           1.456513   \n",
       "std        0.451462               0.997578           0.498109   \n",
       "min        1.000000               0.000000           1.000000   \n",
       "25%        1.000000               0.200000           1.000000   \n",
       "50%        1.000000               0.800000           1.000000   \n",
       "75%        2.000000               1.800000           2.000000   \n",
       "max        2.000000               5.000000           2.000000   \n",
       "\n",
       "       Email_Campaign_Type  Total_Past_Communications  \\\n",
       "count         68353.000000               61528.000000   \n",
       "mean              2.272234                  28.933250   \n",
       "std               0.468680                  12.536518   \n",
       "min               1.000000                   0.000000   \n",
       "25%               2.000000                  20.000000   \n",
       "50%               2.000000                  28.000000   \n",
       "75%               3.000000                  38.000000   \n",
       "max               3.000000                  67.000000   \n",
       "\n",
       "       Time_Email_sent_Category    Word_Count   Total_Links  Total_Images  \\\n",
       "count              68353.000000  68353.000000  66152.000000  66676.000000   \n",
       "mean                   1.999298    699.931751     10.429526      3.550678   \n",
       "std                    0.631103    271.719440      6.383270      5.596983   \n",
       "min                    1.000000     40.000000      1.000000      0.000000   \n",
       "25%                    2.000000    521.000000      6.000000      0.000000   \n",
       "50%                    2.000000    694.000000      9.000000      0.000000   \n",
       "75%                    2.000000    880.000000     14.000000      5.000000   \n",
       "max                    3.000000   1316.000000     49.000000     45.000000   \n",
       "\n",
       "       Email_Status    conversion  \n",
       "count  68353.000000  68353.000000  \n",
       "mean       0.230934      0.034717  \n",
       "std        0.497032      0.183063  \n",
       "min        0.000000      0.000000  \n",
       "25%        0.000000      0.000000  \n",
       "50%        0.000000      0.000000  \n",
       "75%        0.000000      0.000000  \n",
       "max        2.000000      1.000000  "
      ]
     },
     "execution_count": 132,
     "metadata": {},
     "output_type": "execute_result"
    }
   ],
   "source": [
    "df.describe()\n"
   ]
  },
  {
   "cell_type": "code",
   "execution_count": 133,
   "metadata": {},
   "outputs": [
    {
     "data": {
      "text/plain": [
       "Email_ID                         0\n",
       "Email_Type                       0\n",
       "Subject_Hotness_Score            0\n",
       "Email_Source_Type                0\n",
       "Customer_Location            11595\n",
       "Email_Campaign_Type              0\n",
       "Total_Past_Communications     6825\n",
       "Time_Email_sent_Category         0\n",
       "Word_Count                       0\n",
       "Total_Links                   2201\n",
       "Total_Images                  1677\n",
       "Email_Status                     0\n",
       "conversion                       0\n",
       "dtype: int64"
      ]
     },
     "execution_count": 133,
     "metadata": {},
     "output_type": "execute_result"
    }
   ],
   "source": [
    "#find nan values in the dataframe\n",
    "df.isnull().sum()\n"
   ]
  },
  {
   "cell_type": "code",
   "execution_count": 134,
   "metadata": {},
   "outputs": [],
   "source": [
    "#nedd to impute the missing values in the dataframe\n",
    "#impute missing Customer_location with \"unknown\"\n",
    "df.Customer_Location.fillna(\"unknown\", inplace=True)\n",
    "\n",
    "#impute total_past_communications with 0\n",
    "df.Total_Past_Communications.fillna(0, inplace=True)\n",
    "\n",
    "#impute Total_Images with 0\n",
    "df.Total_Images.fillna(0, inplace=True)\n",
    "\n",
    "#impute Total_Links with 0\n",
    "df.Total_Links.fillna(0, inplace=True)"
   ]
  },
  {
   "cell_type": "code",
   "execution_count": 135,
   "metadata": {
    "application/vnd.databricks.v1+cell": {
     "inputWidgets": {},
     "nuid": "454044e9-8fc4-4832-b99a-61c039c87250",
     "showTitle": false,
     "title": ""
    }
   },
   "outputs": [],
   "source": [
    "#listing categorical variables\n",
    "categorical_vars = [\n",
    "    'Email_Type',\n",
    " 'Email_Source_Type',\n",
    " 'Customer_Location',\n",
    " 'Email_Campaign_Type',\n",
    " 'Time_Email_sent_Category'\n",
    "]"
   ]
  },
  {
   "cell_type": "code",
   "execution_count": 136,
   "metadata": {},
   "outputs": [
    {
     "data": {
      "text/plain": [
       "Email_Type                  2\n",
       "Email_Source_Type           2\n",
       "Customer_Location           8\n",
       "Email_Campaign_Type         3\n",
       "Time_Email_sent_Category    3\n",
       "dtype: int64"
      ]
     },
     "execution_count": 136,
     "metadata": {},
     "output_type": "execute_result"
    }
   ],
   "source": [
    "df[categorical_vars].nunique()"
   ]
  },
  {
   "cell_type": "markdown",
   "metadata": {},
   "source": [
    "&nbsp;&nbsp;&nbsp;&nbsp;&nbsp;&nbsp;**c.** **(`10 pts`)** Add Dummy Variables!   (Hint: Follow the code in chapter 4)<br>\n",
    "&nbsp;&nbsp;&nbsp;&nbsp;&nbsp;&nbsp;&nbsp;&nbsp;&nbsp;&nbsp;&nbsp;&nbsp;**i.** Using `pd.get_dummies(<your_column_of_data>, drop_first=True)`, create a new dataframe that contains the dummy-variable version of `Email_Campaign_Type`. <br>**Note/Warning:** <i>This is a bit different than we did in class since we use the `drop_first` argument.  `drop_first` means:  Don't encode Campaign 1, just tell me how good Campaigns 2 & 3 are in relation to Campaign 1.  This is necessary for the model to produce sensible results</i><br>\n",
    "&nbsp;&nbsp;&nbsp;&nbsp;&nbsp;&nbsp;&nbsp;&nbsp;&nbsp;&nbsp;&nbsp;&nbsp;**ii.** Rename the columns of this dataframe to be `'Campaign_2','Campaign_3'`<br>\n",
    "&nbsp;&nbsp;&nbsp;&nbsp;&nbsp;&nbsp;&nbsp;&nbsp;&nbsp;&nbsp;&nbsp;&nbsp;**iii.** Concatenate this dataframe to the original dataframe.<br>\n",
    "&nbsp;&nbsp;&nbsp;&nbsp;&nbsp;&nbsp;&nbsp;&nbsp;&nbsp;&nbsp;&nbsp;&nbsp;**iv.** Create a variable called `all_features` that is a list of all the variables we want to use in our model.  This will be all numerical variables and the dummy variables `'Campaign_2','Campaign_3'`.  Print the variable (i.e., `print(all_features)`).  <br>\n"
   ]
  },
  {
   "cell_type": "code",
   "execution_count": 137,
   "metadata": {},
   "outputs": [
    {
     "data": {
      "text/plain": [
       "array([1, 2], dtype=int64)"
      ]
     },
     "execution_count": 137,
     "metadata": {},
     "output_type": "execute_result"
    }
   ],
   "source": [
    "#Encoding Email type\n",
    "df['Email_Type'].unique()"
   ]
  },
  {
   "cell_type": "code",
   "execution_count": 138,
   "metadata": {},
   "outputs": [],
   "source": [
    "Email_Type_encoded_df = pd.get_dummies(df['Email_Type'])\n",
    "Email_Type_encoded_df.columns = ['Email_Type%s' % x for x in Email_Type_encoded_df.columns]\n",
    "\n"
   ]
  },
  {
   "cell_type": "code",
   "execution_count": 139,
   "metadata": {},
   "outputs": [
    {
     "data": {
      "text/html": [
       "<div>\n",
       "<style scoped>\n",
       "    .dataframe tbody tr th:only-of-type {\n",
       "        vertical-align: middle;\n",
       "    }\n",
       "\n",
       "    .dataframe tbody tr th {\n",
       "        vertical-align: top;\n",
       "    }\n",
       "\n",
       "    .dataframe thead th {\n",
       "        text-align: right;\n",
       "    }\n",
       "</style>\n",
       "<table border=\"1\" class=\"dataframe\">\n",
       "  <thead>\n",
       "    <tr style=\"text-align: right;\">\n",
       "      <th></th>\n",
       "      <th>Email_Type1</th>\n",
       "      <th>Email_Type2</th>\n",
       "    </tr>\n",
       "  </thead>\n",
       "  <tbody>\n",
       "    <tr>\n",
       "      <th>0</th>\n",
       "      <td>1</td>\n",
       "      <td>0</td>\n",
       "    </tr>\n",
       "    <tr>\n",
       "      <th>1</th>\n",
       "      <td>0</td>\n",
       "      <td>1</td>\n",
       "    </tr>\n",
       "    <tr>\n",
       "      <th>2</th>\n",
       "      <td>0</td>\n",
       "      <td>1</td>\n",
       "    </tr>\n",
       "    <tr>\n",
       "      <th>3</th>\n",
       "      <td>1</td>\n",
       "      <td>0</td>\n",
       "    </tr>\n",
       "    <tr>\n",
       "      <th>4</th>\n",
       "      <td>1</td>\n",
       "      <td>0</td>\n",
       "    </tr>\n",
       "  </tbody>\n",
       "</table>\n",
       "</div>"
      ],
      "text/plain": [
       "   Email_Type1  Email_Type2\n",
       "0            1            0\n",
       "1            0            1\n",
       "2            0            1\n",
       "3            1            0\n",
       "4            1            0"
      ]
     },
     "execution_count": 139,
     "metadata": {},
     "output_type": "execute_result"
    }
   ],
   "source": [
    "Email_Type_encoded_df.head()"
   ]
  },
  {
   "cell_type": "code",
   "execution_count": 140,
   "metadata": {},
   "outputs": [
    {
     "data": {
      "text/html": [
       "<div>\n",
       "<style scoped>\n",
       "    .dataframe tbody tr th:only-of-type {\n",
       "        vertical-align: middle;\n",
       "    }\n",
       "\n",
       "    .dataframe tbody tr th {\n",
       "        vertical-align: top;\n",
       "    }\n",
       "\n",
       "    .dataframe thead th {\n",
       "        text-align: right;\n",
       "    }\n",
       "</style>\n",
       "<table border=\"1\" class=\"dataframe\">\n",
       "  <thead>\n",
       "    <tr style=\"text-align: right;\">\n",
       "      <th></th>\n",
       "      <th>Email_ID</th>\n",
       "      <th>Email_Type</th>\n",
       "      <th>Subject_Hotness_Score</th>\n",
       "      <th>Email_Source_Type</th>\n",
       "      <th>Customer_Location</th>\n",
       "      <th>Email_Campaign_Type</th>\n",
       "      <th>Total_Past_Communications</th>\n",
       "      <th>Time_Email_sent_Category</th>\n",
       "      <th>Word_Count</th>\n",
       "      <th>Total_Links</th>\n",
       "      <th>Total_Images</th>\n",
       "      <th>Email_Status</th>\n",
       "      <th>conversion</th>\n",
       "      <th>Email_Type1</th>\n",
       "      <th>Email_Type2</th>\n",
       "    </tr>\n",
       "  </thead>\n",
       "  <tbody>\n",
       "    <tr>\n",
       "      <th>0</th>\n",
       "      <td>EMA00081000034500</td>\n",
       "      <td>1</td>\n",
       "      <td>2.2</td>\n",
       "      <td>2</td>\n",
       "      <td>E</td>\n",
       "      <td>2</td>\n",
       "      <td>33.0</td>\n",
       "      <td>1</td>\n",
       "      <td>440</td>\n",
       "      <td>8.0</td>\n",
       "      <td>0.0</td>\n",
       "      <td>0</td>\n",
       "      <td>0</td>\n",
       "      <td>1</td>\n",
       "      <td>0</td>\n",
       "    </tr>\n",
       "    <tr>\n",
       "      <th>1</th>\n",
       "      <td>EMA00081000045360</td>\n",
       "      <td>2</td>\n",
       "      <td>2.1</td>\n",
       "      <td>1</td>\n",
       "      <td>unknown</td>\n",
       "      <td>2</td>\n",
       "      <td>15.0</td>\n",
       "      <td>2</td>\n",
       "      <td>504</td>\n",
       "      <td>5.0</td>\n",
       "      <td>0.0</td>\n",
       "      <td>0</td>\n",
       "      <td>0</td>\n",
       "      <td>0</td>\n",
       "      <td>1</td>\n",
       "    </tr>\n",
       "    <tr>\n",
       "      <th>2</th>\n",
       "      <td>EMA00081000066290</td>\n",
       "      <td>2</td>\n",
       "      <td>0.1</td>\n",
       "      <td>1</td>\n",
       "      <td>B</td>\n",
       "      <td>3</td>\n",
       "      <td>36.0</td>\n",
       "      <td>2</td>\n",
       "      <td>962</td>\n",
       "      <td>5.0</td>\n",
       "      <td>0.0</td>\n",
       "      <td>1</td>\n",
       "      <td>0</td>\n",
       "      <td>0</td>\n",
       "      <td>1</td>\n",
       "    </tr>\n",
       "    <tr>\n",
       "      <th>3</th>\n",
       "      <td>EMA00081000076560</td>\n",
       "      <td>1</td>\n",
       "      <td>3.0</td>\n",
       "      <td>2</td>\n",
       "      <td>E</td>\n",
       "      <td>2</td>\n",
       "      <td>25.0</td>\n",
       "      <td>2</td>\n",
       "      <td>610</td>\n",
       "      <td>16.0</td>\n",
       "      <td>0.0</td>\n",
       "      <td>0</td>\n",
       "      <td>0</td>\n",
       "      <td>1</td>\n",
       "      <td>0</td>\n",
       "    </tr>\n",
       "    <tr>\n",
       "      <th>4</th>\n",
       "      <td>EMA00081000109720</td>\n",
       "      <td>1</td>\n",
       "      <td>0.0</td>\n",
       "      <td>2</td>\n",
       "      <td>C</td>\n",
       "      <td>3</td>\n",
       "      <td>18.0</td>\n",
       "      <td>2</td>\n",
       "      <td>947</td>\n",
       "      <td>4.0</td>\n",
       "      <td>0.0</td>\n",
       "      <td>0</td>\n",
       "      <td>0</td>\n",
       "      <td>1</td>\n",
       "      <td>0</td>\n",
       "    </tr>\n",
       "  </tbody>\n",
       "</table>\n",
       "</div>"
      ],
      "text/plain": [
       "            Email_ID  Email_Type  Subject_Hotness_Score  Email_Source_Type  \\\n",
       "0  EMA00081000034500           1                    2.2                  2   \n",
       "1  EMA00081000045360           2                    2.1                  1   \n",
       "2  EMA00081000066290           2                    0.1                  1   \n",
       "3  EMA00081000076560           1                    3.0                  2   \n",
       "4  EMA00081000109720           1                    0.0                  2   \n",
       "\n",
       "  Customer_Location  Email_Campaign_Type  Total_Past_Communications  \\\n",
       "0                 E                    2                       33.0   \n",
       "1           unknown                    2                       15.0   \n",
       "2                 B                    3                       36.0   \n",
       "3                 E                    2                       25.0   \n",
       "4                 C                    3                       18.0   \n",
       "\n",
       "   Time_Email_sent_Category  Word_Count  Total_Links  Total_Images  \\\n",
       "0                         1         440          8.0           0.0   \n",
       "1                         2         504          5.0           0.0   \n",
       "2                         2         962          5.0           0.0   \n",
       "3                         2         610         16.0           0.0   \n",
       "4                         2         947          4.0           0.0   \n",
       "\n",
       "   Email_Status  conversion  Email_Type1  Email_Type2  \n",
       "0             0           0            1            0  \n",
       "1             0           0            0            1  \n",
       "2             1           0            0            1  \n",
       "3             0           0            1            0  \n",
       "4             0           0            1            0  "
      ]
     },
     "execution_count": 140,
     "metadata": {},
     "output_type": "execute_result"
    }
   ],
   "source": [
    "#joining the encoded Email_Type with the original dataframe\n",
    "df = pd.concat([df, Email_Type_encoded_df], axis=1)\n",
    "df.head()"
   ]
  },
  {
   "cell_type": "code",
   "execution_count": 141,
   "metadata": {},
   "outputs": [],
   "source": [
    "#Encoding Email source type, Customer location, Email campaign type, Time email sent category\n",
    "\n",
    "\n",
    "Email_Source_Type_encoded_df = pd.get_dummies(df['Email_Source_Type'])\n",
    "Email_Source_Type_encoded_df.columns = ['Email_Source_Type%s' % x for x in Email_Source_Type_encoded_df.columns]\n",
    "\n",
    "Customer_Location_encoded_df = pd.get_dummies(df['Customer_Location'])\n",
    "Customer_Location_encoded_df.columns = ['Customer_Location%s' % x for x in Customer_Location_encoded_df.columns]\n",
    "\n",
    "Email_Campaign_Type_encoded_df = pd.get_dummies(df['Email_Campaign_Type'])\n",
    "Email_Campaign_Type_encoded_df.columns = ['Email_Campaign_Type%s' % x for x in Email_Campaign_Type_encoded_df.columns]\n",
    "\n",
    "#Time_Email_sent_Category \n",
    "Time_Email_sent_Category_encoded_df = pd.get_dummies(df['Time_Email_sent_Category'])\n",
    "Time_Email_sent_Category_encoded_df.columns = ['Time_Email_sent_Category%s' % x for x in Time_Email_sent_Category_encoded_df.columns]\n",
    "\n"
   ]
  },
  {
   "cell_type": "code",
   "execution_count": 142,
   "metadata": {},
   "outputs": [
    {
     "data": {
      "text/html": [
       "<div>\n",
       "<style scoped>\n",
       "    .dataframe tbody tr th:only-of-type {\n",
       "        vertical-align: middle;\n",
       "    }\n",
       "\n",
       "    .dataframe tbody tr th {\n",
       "        vertical-align: top;\n",
       "    }\n",
       "\n",
       "    .dataframe thead th {\n",
       "        text-align: right;\n",
       "    }\n",
       "</style>\n",
       "<table border=\"1\" class=\"dataframe\">\n",
       "  <thead>\n",
       "    <tr style=\"text-align: right;\">\n",
       "      <th></th>\n",
       "      <th>Email_Source_Type1</th>\n",
       "      <th>Email_Source_Type2</th>\n",
       "    </tr>\n",
       "  </thead>\n",
       "  <tbody>\n",
       "    <tr>\n",
       "      <th>0</th>\n",
       "      <td>0</td>\n",
       "      <td>1</td>\n",
       "    </tr>\n",
       "    <tr>\n",
       "      <th>1</th>\n",
       "      <td>1</td>\n",
       "      <td>0</td>\n",
       "    </tr>\n",
       "    <tr>\n",
       "      <th>2</th>\n",
       "      <td>1</td>\n",
       "      <td>0</td>\n",
       "    </tr>\n",
       "    <tr>\n",
       "      <th>3</th>\n",
       "      <td>0</td>\n",
       "      <td>1</td>\n",
       "    </tr>\n",
       "    <tr>\n",
       "      <th>4</th>\n",
       "      <td>0</td>\n",
       "      <td>1</td>\n",
       "    </tr>\n",
       "  </tbody>\n",
       "</table>\n",
       "</div>"
      ],
      "text/plain": [
       "   Email_Source_Type1  Email_Source_Type2\n",
       "0                   0                   1\n",
       "1                   1                   0\n",
       "2                   1                   0\n",
       "3                   0                   1\n",
       "4                   0                   1"
      ]
     },
     "execution_count": 142,
     "metadata": {},
     "output_type": "execute_result"
    }
   ],
   "source": [
    "Email_Source_Type_encoded_df.head()"
   ]
  },
  {
   "cell_type": "code",
   "execution_count": 143,
   "metadata": {},
   "outputs": [],
   "source": [
    "#adding the encoded categorical variables to the original dataframe\n",
    "df = pd.concat([df, Email_Source_Type_encoded_df], axis=1)\n",
    "df = pd.concat([df, Customer_Location_encoded_df], axis=1)\n",
    "df = pd.concat([df, Email_Campaign_Type_encoded_df], axis=1)\n",
    "df = pd.concat([df, Time_Email_sent_Category_encoded_df], axis=1)\n"
   ]
  },
  {
   "cell_type": "code",
   "execution_count": 144,
   "metadata": {},
   "outputs": [
    {
     "data": {
      "text/plain": [
       "['Email_ID',\n",
       " 'Email_Type',\n",
       " 'Subject_Hotness_Score',\n",
       " 'Email_Source_Type',\n",
       " 'Customer_Location',\n",
       " 'Email_Campaign_Type',\n",
       " 'Total_Past_Communications',\n",
       " 'Time_Email_sent_Category',\n",
       " 'Word_Count',\n",
       " 'Total_Links',\n",
       " 'Total_Images',\n",
       " 'Email_Status',\n",
       " 'conversion',\n",
       " 'Email_Type1',\n",
       " 'Email_Type2',\n",
       " 'Email_Source_Type1',\n",
       " 'Email_Source_Type2',\n",
       " 'Customer_LocationA',\n",
       " 'Customer_LocationB',\n",
       " 'Customer_LocationC',\n",
       " 'Customer_LocationD',\n",
       " 'Customer_LocationE',\n",
       " 'Customer_LocationF',\n",
       " 'Customer_LocationG',\n",
       " 'Customer_Locationunknown',\n",
       " 'Email_Campaign_Type1',\n",
       " 'Email_Campaign_Type2',\n",
       " 'Email_Campaign_Type3',\n",
       " 'Time_Email_sent_Category1',\n",
       " 'Time_Email_sent_Category2',\n",
       " 'Time_Email_sent_Category3']"
      ]
     },
     "execution_count": 144,
     "metadata": {},
     "output_type": "execute_result"
    }
   ],
   "source": [
    "#listing the columns in the dataframe\n",
    "list(df.columns)"
   ]
  },
  {
   "cell_type": "code",
   "execution_count": 145,
   "metadata": {},
   "outputs": [],
   "source": [
    "#create a variable called all_features, which contains all the features, minus email ID and conversion, minus the categorical variables\n",
    "# because the categorical variables are encoded, we will not include them in the all_features variable\n",
    "all_features = list(df.columns)\n",
    "all_features.remove('conversion')\n",
    "all_features.remove('Email_ID')\n",
    "all_features.remove('Email_Type')\n",
    "all_features.remove('Email_Source_Type')\n",
    "all_features.remove('Customer_Location')\n",
    "all_features.remove('Email_Campaign_Type')\n",
    "all_features.remove('Time_Email_sent_Category')\n",
    "all_features.remove('Email_Status')\n"
   ]
  },
  {
   "cell_type": "code",
   "execution_count": 146,
   "metadata": {},
   "outputs": [
    {
     "name": "stdout",
     "output_type": "stream",
     "text": [
      "['Subject_Hotness_Score', 'Total_Past_Communications', 'Word_Count', 'Total_Links', 'Total_Images', 'Email_Type1', 'Email_Type2', 'Email_Source_Type1', 'Email_Source_Type2', 'Customer_LocationA', 'Customer_LocationB', 'Customer_LocationC', 'Customer_LocationD', 'Customer_LocationE', 'Customer_LocationF', 'Customer_LocationG', 'Customer_Locationunknown', 'Email_Campaign_Type1', 'Email_Campaign_Type2', 'Email_Campaign_Type3', 'Time_Email_sent_Category1', 'Time_Email_sent_Category2', 'Time_Email_sent_Category3']\n"
     ]
    }
   ],
   "source": [
    "#list of columns after encoding\n",
    "#Create a variable called `all_features` that is a list of all the variables we want to use in our model.  \n",
    "# This will be all numerical variables and the dummy variables `'Campaign_2','Campaign_3'`.  \n",
    "# Print the variable (i.e., `print(all_features)`)\n",
    "print(all_features)"
   ]
  },
  {
   "cell_type": "markdown",
   "metadata": {},
   "source": [
    "&nbsp;&nbsp;&nbsp;&nbsp;&nbsp;&nbsp;**d.** **(`7.5 pts`)** Split the dataframe into 80% training data and 20% testing data using the `train_test_split` function (see section 3 of the notebook from Chapter 8 for an example of how to do this.) When you pass the data to be split, be sure to add an intercept!  \n",
    "To do this simply pass `sm.add_constant(df[all_features])` (where `sm` is the alias for `statsmodels.api`) instead of just `df[all_features]` (in other words, `df[all_features]` is your modeling dataframe subset to the features you will use to model).  \n",
    "Finally, add the following argument to train_test_split:  `random_state=42`\n",
    "\n",
    "*print the number of rows and columns in all the dataframes you created in this step*"
   ]
  },
  {
   "cell_type": "code",
   "execution_count": 147,
   "metadata": {},
   "outputs": [
    {
     "name": "stderr",
     "output_type": "stream",
     "text": [
      "C:\\Users\\manoj\\anaconda3\\lib\\site-packages\\statsmodels\\tsa\\tsatools.py:142: FutureWarning: In a future version of pandas all arguments of concat except for the argument 'objs' will be keyword-only\n",
      "  x = pd.concat(x[::order], 1)\n"
     ]
    }
   ],
   "source": [
    "#split the dataframe into 80% training and 20% testing data using train_test_split function, be sure to add an intercept column to the training data\n",
    "#add random_statee=42 to ensure that the results are consistent\n",
    "from sklearn.model_selection import train_test_split\n",
    "import statsmodels.api as sm\n",
    "\n",
    "X = sm.add_constant(df[all_features])\n",
    "y = df['conversion']\n",
    "X_train, X_test, y_train, y_test = train_test_split(X, y, test_size=0.20, random_state=42)\n",
    "\n"
   ]
  },
  {
   "cell_type": "code",
   "execution_count": 148,
   "metadata": {},
   "outputs": [
    {
     "name": "stdout",
     "output_type": "stream",
     "text": [
      "(54682, 24)\n",
      "(13671, 24)\n",
      "(54682,)\n",
      "(13671,)\n"
     ]
    }
   ],
   "source": [
    "#print the no. of rows and columns in the training and testing dataframes\n",
    "print(X_train.shape)\n",
    "print(X_test.shape)\n",
    "print(y_train.shape)\n",
    "print(y_test.shape)\n"
   ]
  },
  {
   "cell_type": "markdown",
   "metadata": {},
   "source": [
    "**2.  Build, interpret and score a logistic regression model!** <br>\n",
    "&nbsp;&nbsp;&nbsp;&nbsp;&nbsp;&nbsp;**a.** **(`5 pts`)** Build a Logistic Regression using statsmodels (statsmodels.api) as in Chapter 3.  Only include the *train* data you created in question 1d.<br>"
   ]
  },
  {
   "cell_type": "code",
   "execution_count": 149,
   "metadata": {},
   "outputs": [
    {
     "name": "stdout",
     "output_type": "stream",
     "text": [
      "Optimization terminated successfully.\n",
      "         Current function value: 0.132093\n",
      "         Iterations 8\n"
     ]
    },
    {
     "data": {
      "text/html": [
       "<table class=\"simpletable\">\n",
       "<caption>Logit Regression Results</caption>\n",
       "<tr>\n",
       "  <th>Dep. Variable:</th>      <td>conversion</td>    <th>  No. Observations:  </th>  <td> 54682</td> \n",
       "</tr>\n",
       "<tr>\n",
       "  <th>Model:</th>                 <td>Logit</td>      <th>  Df Residuals:      </th>  <td> 54663</td> \n",
       "</tr>\n",
       "<tr>\n",
       "  <th>Method:</th>                 <td>MLE</td>       <th>  Df Model:          </th>  <td>    18</td> \n",
       "</tr>\n",
       "<tr>\n",
       "  <th>Date:</th>            <td>Mon, 25 Apr 2022</td> <th>  Pseudo R-squ.:     </th>  <td>0.1301</td> \n",
       "</tr>\n",
       "<tr>\n",
       "  <th>Time:</th>                <td>19:56:14</td>     <th>  Log-Likelihood:    </th> <td> -7223.1</td>\n",
       "</tr>\n",
       "<tr>\n",
       "  <th>converged:</th>             <td>True</td>       <th>  LL-Null:           </th> <td> -8303.1</td>\n",
       "</tr>\n",
       "<tr>\n",
       "  <th>Covariance Type:</th>     <td>nonrobust</td>    <th>  LLR p-value:       </th>  <td> 0.000</td> \n",
       "</tr>\n",
       "</table>\n",
       "<table class=\"simpletable\">\n",
       "<tr>\n",
       "              <td></td>                 <th>coef</th>     <th>std err</th>      <th>z</th>      <th>P>|z|</th>  <th>[0.025</th>    <th>0.975]</th>  \n",
       "</tr>\n",
       "<tr>\n",
       "  <th>const</th>                     <td>   -0.9509</td> <td>      nan</td> <td>      nan</td> <td>   nan</td> <td>      nan</td> <td>      nan</td>\n",
       "</tr>\n",
       "<tr>\n",
       "  <th>Subject_Hotness_Score</th>     <td>   -0.1950</td> <td>    0.051</td> <td>   -3.805</td> <td> 0.000</td> <td>   -0.295</td> <td>   -0.095</td>\n",
       "</tr>\n",
       "<tr>\n",
       "  <th>Total_Past_Communications</th> <td>    0.0226</td> <td>    0.002</td> <td>   11.105</td> <td> 0.000</td> <td>    0.019</td> <td>    0.027</td>\n",
       "</tr>\n",
       "<tr>\n",
       "  <th>Word_Count</th>                <td>   -0.0008</td> <td>    0.000</td> <td>   -8.106</td> <td> 0.000</td> <td>   -0.001</td> <td>   -0.001</td>\n",
       "</tr>\n",
       "<tr>\n",
       "  <th>Total_Links</th>               <td>    0.0205</td> <td>    0.005</td> <td>    3.775</td> <td> 0.000</td> <td>    0.010</td> <td>    0.031</td>\n",
       "</tr>\n",
       "<tr>\n",
       "  <th>Total_Images</th>              <td>   -0.0021</td> <td>    0.006</td> <td>   -0.330</td> <td> 0.741</td> <td>   -0.014</td> <td>    0.010</td>\n",
       "</tr>\n",
       "<tr>\n",
       "  <th>Email_Type1</th>               <td>   -0.2810</td> <td>      nan</td> <td>      nan</td> <td>   nan</td> <td>      nan</td> <td>      nan</td>\n",
       "</tr>\n",
       "<tr>\n",
       "  <th>Email_Type2</th>               <td>   -0.6699</td> <td>      nan</td> <td>      nan</td> <td>   nan</td> <td>      nan</td> <td>      nan</td>\n",
       "</tr>\n",
       "<tr>\n",
       "  <th>Email_Source_Type1</th>        <td>   -0.3186</td> <td>      nan</td> <td>      nan</td> <td>   nan</td> <td>      nan</td> <td>      nan</td>\n",
       "</tr>\n",
       "<tr>\n",
       "  <th>Email_Source_Type2</th>        <td>   -0.6322</td> <td>      nan</td> <td>      nan</td> <td>   nan</td> <td>      nan</td> <td>      nan</td>\n",
       "</tr>\n",
       "<tr>\n",
       "  <th>Customer_LocationA</th>        <td>   -0.0601</td> <td>      nan</td> <td>      nan</td> <td>   nan</td> <td>      nan</td> <td>      nan</td>\n",
       "</tr>\n",
       "<tr>\n",
       "  <th>Customer_LocationB</th>        <td>   -0.2756</td> <td>      nan</td> <td>      nan</td> <td>   nan</td> <td>      nan</td> <td>      nan</td>\n",
       "</tr>\n",
       "<tr>\n",
       "  <th>Customer_LocationC</th>        <td>   -0.0517</td> <td>      nan</td> <td>      nan</td> <td>   nan</td> <td>      nan</td> <td>      nan</td>\n",
       "</tr>\n",
       "<tr>\n",
       "  <th>Customer_LocationD</th>        <td>   -0.1095</td> <td>      nan</td> <td>      nan</td> <td>   nan</td> <td>      nan</td> <td>      nan</td>\n",
       "</tr>\n",
       "<tr>\n",
       "  <th>Customer_LocationE</th>        <td>   -0.1602</td> <td>      nan</td> <td>      nan</td> <td>   nan</td> <td>      nan</td> <td>      nan</td>\n",
       "</tr>\n",
       "<tr>\n",
       "  <th>Customer_LocationF</th>        <td>   -0.0771</td> <td>      nan</td> <td>      nan</td> <td>   nan</td> <td>      nan</td> <td>      nan</td>\n",
       "</tr>\n",
       "<tr>\n",
       "  <th>Customer_LocationG</th>        <td>   -0.0693</td> <td>      nan</td> <td>      nan</td> <td>   nan</td> <td>      nan</td> <td>      nan</td>\n",
       "</tr>\n",
       "<tr>\n",
       "  <th>Customer_Locationunknown</th>  <td>   -0.1474</td> <td>      nan</td> <td>      nan</td> <td>   nan</td> <td>      nan</td> <td>      nan</td>\n",
       "</tr>\n",
       "<tr>\n",
       "  <th>Email_Campaign_Type1</th>      <td>    1.6831</td> <td>      nan</td> <td>      nan</td> <td>   nan</td> <td>      nan</td> <td>      nan</td>\n",
       "</tr>\n",
       "<tr>\n",
       "  <th>Email_Campaign_Type2</th>      <td>   -2.0488</td> <td>      nan</td> <td>      nan</td> <td>   nan</td> <td>      nan</td> <td>      nan</td>\n",
       "</tr>\n",
       "<tr>\n",
       "  <th>Email_Campaign_Type3</th>      <td>   -0.5852</td> <td>      nan</td> <td>      nan</td> <td>   nan</td> <td>      nan</td> <td>      nan</td>\n",
       "</tr>\n",
       "<tr>\n",
       "  <th>Time_Email_sent_Category1</th> <td>   -0.3073</td> <td> 2.93e+05</td> <td>-1.05e-06</td> <td> 1.000</td> <td>-5.74e+05</td> <td> 5.74e+05</td>\n",
       "</tr>\n",
       "<tr>\n",
       "  <th>Time_Email_sent_Category2</th> <td>   -0.3304</td> <td> 2.93e+05</td> <td>-1.13e-06</td> <td> 1.000</td> <td>-5.74e+05</td> <td> 5.74e+05</td>\n",
       "</tr>\n",
       "<tr>\n",
       "  <th>Time_Email_sent_Category3</th> <td>   -0.3133</td> <td> 2.93e+05</td> <td>-1.07e-06</td> <td> 1.000</td> <td>-5.74e+05</td> <td> 5.74e+05</td>\n",
       "</tr>\n",
       "</table>"
      ],
      "text/plain": [
       "<class 'statsmodels.iolib.summary.Summary'>\n",
       "\"\"\"\n",
       "                           Logit Regression Results                           \n",
       "==============================================================================\n",
       "Dep. Variable:             conversion   No. Observations:                54682\n",
       "Model:                          Logit   Df Residuals:                    54663\n",
       "Method:                           MLE   Df Model:                           18\n",
       "Date:                Mon, 25 Apr 2022   Pseudo R-squ.:                  0.1301\n",
       "Time:                        19:56:14   Log-Likelihood:                -7223.1\n",
       "converged:                       True   LL-Null:                       -8303.1\n",
       "Covariance Type:            nonrobust   LLR p-value:                     0.000\n",
       "=============================================================================================\n",
       "                                coef    std err          z      P>|z|      [0.025      0.975]\n",
       "---------------------------------------------------------------------------------------------\n",
       "const                        -0.9509        nan        nan        nan         nan         nan\n",
       "Subject_Hotness_Score        -0.1950      0.051     -3.805      0.000      -0.295      -0.095\n",
       "Total_Past_Communications     0.0226      0.002     11.105      0.000       0.019       0.027\n",
       "Word_Count                   -0.0008      0.000     -8.106      0.000      -0.001      -0.001\n",
       "Total_Links                   0.0205      0.005      3.775      0.000       0.010       0.031\n",
       "Total_Images                 -0.0021      0.006     -0.330      0.741      -0.014       0.010\n",
       "Email_Type1                  -0.2810        nan        nan        nan         nan         nan\n",
       "Email_Type2                  -0.6699        nan        nan        nan         nan         nan\n",
       "Email_Source_Type1           -0.3186        nan        nan        nan         nan         nan\n",
       "Email_Source_Type2           -0.6322        nan        nan        nan         nan         nan\n",
       "Customer_LocationA           -0.0601        nan        nan        nan         nan         nan\n",
       "Customer_LocationB           -0.2756        nan        nan        nan         nan         nan\n",
       "Customer_LocationC           -0.0517        nan        nan        nan         nan         nan\n",
       "Customer_LocationD           -0.1095        nan        nan        nan         nan         nan\n",
       "Customer_LocationE           -0.1602        nan        nan        nan         nan         nan\n",
       "Customer_LocationF           -0.0771        nan        nan        nan         nan         nan\n",
       "Customer_LocationG           -0.0693        nan        nan        nan         nan         nan\n",
       "Customer_Locationunknown     -0.1474        nan        nan        nan         nan         nan\n",
       "Email_Campaign_Type1          1.6831        nan        nan        nan         nan         nan\n",
       "Email_Campaign_Type2         -2.0488        nan        nan        nan         nan         nan\n",
       "Email_Campaign_Type3         -0.5852        nan        nan        nan         nan         nan\n",
       "Time_Email_sent_Category1    -0.3073   2.93e+05  -1.05e-06      1.000   -5.74e+05    5.74e+05\n",
       "Time_Email_sent_Category2    -0.3304   2.93e+05  -1.13e-06      1.000   -5.74e+05    5.74e+05\n",
       "Time_Email_sent_Category3    -0.3133   2.93e+05  -1.07e-06      1.000   -5.74e+05    5.74e+05\n",
       "=============================================================================================\n",
       "\"\"\""
      ]
     },
     "execution_count": 149,
     "metadata": {},
     "output_type": "execute_result"
    }
   ],
   "source": [
    "logit = sm.Logit(\n",
    "    y_train, \n",
    "    X_train\n",
    ")\n",
    "\n",
    "logit_fit = logit.fit()\n",
    "logit_fit.summary()"
   ]
  },
  {
   "cell_type": "code",
   "execution_count": 150,
   "metadata": {},
   "outputs": [
    {
     "name": "stdout",
     "output_type": "stream",
     "text": [
      "0.0\n",
      "0.01\n",
      "0.02\n",
      "0.03\n",
      "0.04\n"
     ]
    }
   ],
   "source": [
    "from sklearn.metrics import accuracy_score, precision_score, recall_score\n",
    "from sklearn.metrics import roc_curve,   balanced_accuracy_score, auc\n",
    "#import aucl_roc_score from sklearn.metrics\n",
    "from sklearn.metrics import roc_auc_score\n",
    "\n",
    "df_train=pd.DataFrame(columns=['threshold','prediction','probability','conversion'])\n",
    "for threshold in np.arange(0, 0.05, 0.01):\n",
    "    print(threshold)"
   ]
  },
  {
   "cell_type": "code",
   "execution_count": 151,
   "metadata": {},
   "outputs": [],
   "source": [
    "in_sample_preds = logit_fit.predict(X_train)\n",
    "out_sample_preds = logit_fit.predict(X_test)\n",
    "\n",
    "#insample_auc = auc(y_train, in_sample_preds > threshold)"
   ]
  },
  {
   "cell_type": "code",
   "execution_count": 152,
   "metadata": {},
   "outputs": [],
   "source": [
    "\n",
    "df_train_array = pd.DataFrame(columns=['threshold','insample accuracy','insample precision', 'insample recall', 'insample auc','insample balanced accuracy' ,'outsample accuracy','outsample precision', 'outsample recall', 'outsample auc','outsample balanced accuracy'])\n",
    "for threshold in np.arange(0.01, 0.45, 0.01):\n",
    "    a=accuracy_score(y_train, in_sample_preds > threshold)\n",
    "    b=precision_score(y_train, in_sample_preds > threshold,zero_division=0)\n",
    "    c=recall_score(y_train, in_sample_preds > threshold)\n",
    "    d= roc_auc_score(y_train, in_sample_preds > threshold)\n",
    "    e=balanced_accuracy_score(y_train, in_sample_preds > threshold)\n",
    "    f=accuracy_score(y_test, out_sample_preds > threshold)\n",
    "    g=precision_score(y_test, out_sample_preds > threshold,zero_division=0)\n",
    "    h=recall_score(y_test, out_sample_preds > threshold)\n",
    "    i=  roc_auc_score(y_test, out_sample_preds > threshold)\n",
    "    j=balanced_accuracy_score(y_test, out_sample_preds > threshold)\n",
    "    df_train_array = pd.concat([pd.DataFrame([[threshold,a,b,c,d,e,f,g,h,i,j]], columns=df_train_array.columns), df_train_array])"
   ]
  },
  {
   "cell_type": "code",
   "execution_count": 153,
   "metadata": {},
   "outputs": [
    {
     "name": "stdout",
     "output_type": "stream",
     "text": [
      "0.7118838881512513\n"
     ]
    }
   ],
   "source": [
    "print(df_train_array['outsample balanced accuracy'].max())"
   ]
  },
  {
   "cell_type": "code",
   "execution_count": 154,
   "metadata": {},
   "outputs": [
    {
     "name": "stdout",
     "output_type": "stream",
     "text": [
      "0.03\n"
     ]
    }
   ],
   "source": [
    "    \n",
    "#print(df_train_array)\n",
    "\n",
    "#for loop for threshold = 0.01 to 0.99 in increments of 0.01\n",
    "#for threshold in np.arange(0, 1, 0.01):\n",
    "\n",
    "#find threshold from df_train_array which has highest insample precision\n",
    "#print(df_train_array[['insample precision']].idxmax())\n",
    "\n",
    "#df.loc[df.GPA == df.GPA.max(), 'ID'].values[0]\n",
    "best_threshold = df_train_array.loc[df_train_array['outsample balanced accuracy'] == df_train_array['outsample balanced accuracy'].max(), 'threshold'].values[0]\n",
    "#df_train_array.loc[df_train_array['insample precision'].idxmax(), 'threshold']\n",
    "#max_x = df_train_array.loc[df_train_array['insample precision'].idxmax()]\n",
    "#print (\"Maximum value of column \", col, \" and its corresponding row values:\\n\", max_x)\n",
    "#best_threshold = df_train_array[['insample precision']].idxmax()\n",
    "print(best_threshold)"
   ]
  },
  {
   "cell_type": "code",
   "execution_count": 155,
   "metadata": {},
   "outputs": [
    {
     "name": "stdout",
     "output_type": "stream",
     "text": [
      "In-Sample Accuracy: 0.7029\n",
      "Out-of-Sample Accuracy: 0.6983\n",
      "In-Sample Precision: 0.0844\n",
      "Out-of-Sample Precision: 0.0766\n",
      "In-Sample Recall: 0.7599\n",
      "Out-of-Sample Recall: 0.7265\n"
     ]
    }
   ],
   "source": [
    "print('In-Sample Accuracy: %0.4f' % accuracy_score(y_train, in_sample_preds> best_threshold))\n",
    "print('Out-of-Sample Accuracy: %0.4f' % accuracy_score(y_test, out_sample_preds> best_threshold))\n",
    "print('In-Sample Precision: %0.4f' % precision_score(y_train, in_sample_preds> best_threshold))\n",
    "print('Out-of-Sample Precision: %0.4f' % precision_score(y_test, out_sample_preds> best_threshold))\n",
    "print('In-Sample Recall: %0.4f' % recall_score(y_train, in_sample_preds> best_threshold))\n",
    "print('Out-of-Sample Recall: %0.4f' % recall_score(y_test, out_sample_preds> best_threshold))"
   ]
  },
  {
   "cell_type": "code",
   "execution_count": 156,
   "metadata": {},
   "outputs": [
    {
     "name": "stdout",
     "output_type": "stream",
     "text": [
      "In-Sample Recall: 0.7599\n",
      "Out-of-Sample Recall: 0.7265\n"
     ]
    }
   ],
   "source": [
    "print('In-Sample Recall: %0.4f' % recall_score(y_train, in_sample_preds> best_threshold))\n",
    "print('Out-of-Sample Recall: %0.4f' % recall_score(y_test, out_sample_preds> best_threshold))"
   ]
  },
  {
   "cell_type": "code",
   "execution_count": 157,
   "metadata": {},
   "outputs": [],
   "source": [
    "in_sample_fpr, in_sample_tpr, in_sample_thresholds = roc_curve(y_train, in_sample_preds)\n",
    "out_sample_fpr, out_sample_tpr, out_sample_thresholds = roc_curve(y_test, out_sample_preds)"
   ]
  },
  {
   "cell_type": "code",
   "execution_count": 158,
   "metadata": {},
   "outputs": [
    {
     "name": "stdout",
     "output_type": "stream",
     "text": [
      "In-Sample AUC: 0.7935\n",
      "Out-Sample AUC: 0.7809\n",
      "[1.42582119 0.42582119 0.4068055  ... 0.00421723 0.00421673 0.00273666]\n"
     ]
    }
   ],
   "source": [
    "in_sample_roc_auc = auc(in_sample_fpr, in_sample_tpr)\n",
    "out_sample_roc_auc = auc(out_sample_fpr, out_sample_tpr)\n",
    "\n",
    "print('In-Sample AUC: %0.4f' % in_sample_roc_auc)\n",
    "print('Out-Sample AUC: %0.4f' % out_sample_roc_auc)\n",
    "print(in_sample_thresholds)"
   ]
  },
  {
   "cell_type": "code",
   "execution_count": 159,
   "metadata": {},
   "outputs": [
    {
     "data": {
      "text/html": [
       "<div>\n",
       "<style scoped>\n",
       "    .dataframe tbody tr th:only-of-type {\n",
       "        vertical-align: middle;\n",
       "    }\n",
       "\n",
       "    .dataframe tbody tr th {\n",
       "        vertical-align: top;\n",
       "    }\n",
       "\n",
       "    .dataframe thead th {\n",
       "        text-align: right;\n",
       "    }\n",
       "</style>\n",
       "<table border=\"1\" class=\"dataframe\">\n",
       "  <thead>\n",
       "    <tr style=\"text-align: right;\">\n",
       "      <th></th>\n",
       "      <th>coef</th>\n",
       "      <th>std err</th>\n",
       "      <th>z</th>\n",
       "      <th>P&gt;|z|</th>\n",
       "      <th>[0.025</th>\n",
       "      <th>0.975]</th>\n",
       "    </tr>\n",
       "  </thead>\n",
       "  <tbody>\n",
       "    <tr>\n",
       "      <th>const</th>\n",
       "      <td>-0.9509</td>\n",
       "      <td>NaN</td>\n",
       "      <td>NaN</td>\n",
       "      <td>NaN</td>\n",
       "      <td>NaN</td>\n",
       "      <td>NaN</td>\n",
       "    </tr>\n",
       "    <tr>\n",
       "      <th>Subject_Hotness_Score</th>\n",
       "      <td>-0.1950</td>\n",
       "      <td>0.051</td>\n",
       "      <td>-3.805</td>\n",
       "      <td>0.0</td>\n",
       "      <td>-0.295</td>\n",
       "      <td>-0.095</td>\n",
       "    </tr>\n",
       "    <tr>\n",
       "      <th>Total_Past_Communications</th>\n",
       "      <td>0.0226</td>\n",
       "      <td>0.002</td>\n",
       "      <td>11.105</td>\n",
       "      <td>0.0</td>\n",
       "      <td>0.019</td>\n",
       "      <td>0.027</td>\n",
       "    </tr>\n",
       "    <tr>\n",
       "      <th>Word_Count</th>\n",
       "      <td>-0.0008</td>\n",
       "      <td>0.000</td>\n",
       "      <td>-8.106</td>\n",
       "      <td>0.0</td>\n",
       "      <td>-0.001</td>\n",
       "      <td>-0.001</td>\n",
       "    </tr>\n",
       "    <tr>\n",
       "      <th>Total_Links</th>\n",
       "      <td>0.0205</td>\n",
       "      <td>0.005</td>\n",
       "      <td>3.775</td>\n",
       "      <td>0.0</td>\n",
       "      <td>0.010</td>\n",
       "      <td>0.031</td>\n",
       "    </tr>\n",
       "  </tbody>\n",
       "</table>\n",
       "</div>"
      ],
      "text/plain": [
       "                             coef  std err       z  P>|z|  [0.025  0.975]\n",
       "const                     -0.9509      NaN     NaN    NaN     NaN     NaN\n",
       "Subject_Hotness_Score     -0.1950    0.051  -3.805    0.0  -0.295  -0.095\n",
       "Total_Past_Communications  0.0226    0.002  11.105    0.0   0.019   0.027\n",
       "Word_Count                -0.0008    0.000  -8.106    0.0  -0.001  -0.001\n",
       "Total_Links                0.0205    0.005   3.775    0.0   0.010   0.031"
      ]
     },
     "execution_count": 159,
     "metadata": {},
     "output_type": "execute_result"
    }
   ],
   "source": [
    "logit_df=pd.read_html(logit_fit.summary().tables[1].as_html(),header=0, index_col=0)\n",
    "logit_df[0].head(5)\n",
    "logit_df=logit_df[0]\n",
    "\n",
    "logit_df.head()"
   ]
  },
  {
   "cell_type": "code",
   "execution_count": 160,
   "metadata": {},
   "outputs": [
    {
     "data": {
      "image/png": "[encoded data removed]",
      "text/plain": [
       "<Figure size 720x504 with 1 Axes>"
      ]
     },
     "metadata": {
      "needs_background": "light"
     },
     "output_type": "display_data"
    }
   ],
   "source": [
    "plt.figure(figsize=(10,7))\n",
    "\n",
    "plt.plot(\n",
    "    out_sample_fpr, out_sample_tpr, color='darkorange', label='Out-Sample ROC curve (area = %0.4f)' % in_sample_roc_auc\n",
    ")\n",
    "plt.plot(\n",
    "    in_sample_fpr, in_sample_tpr, color='navy', label='In-Sample ROC curve (area = %0.4f)' % out_sample_roc_auc\n",
    ")\n",
    "plt.plot([0, 1], [0, 1], color='gray', lw=1, linestyle='--')\n",
    "plt.grid()\n",
    "plt.xlim([0.0, 1.0])\n",
    "plt.ylim([0.0, 1.05])\n",
    "plt.xlabel('False Positive Rate')\n",
    "plt.ylabel('True Positive Rate')\n",
    "plt.title('Model ROC Curve')\n",
    "plt.legend(loc=\"lower right\")\n",
    "\n",
    "plt.show()"
   ]
  },
  {
   "cell_type": "markdown",
   "metadata": {},
   "source": [
    "&nbsp;&nbsp;&nbsp;&nbsp;&nbsp;&nbsp;**b.**  Using the Model Summary answer the following questions <br>Remember:  `Campaign_2` & `Campaign_3` are encoded in relation to `Campaign_1`, when interpretting them remember to mention that their effect is relative to `Campaign_1`).\n",
    "<br>You can provide your answer as a comment (`# Anything following a hash mark is a comment`) or in any other manner you like."
   ]
  },
  {
   "cell_type": "markdown",
   "metadata": {},
   "source": [
    "\n",
    "&nbsp;&nbsp;&nbsp;&nbsp;&nbsp;&nbsp;&nbsp;&nbsp;&nbsp;&nbsp;&nbsp;&nbsp;**i.** **(`3 pts`)**which variables have a statistically significant positive correlation with the target\n",
    "<br>"
   ]
  },
  {
   "cell_type": "code",
   "execution_count": 161,
   "metadata": {},
   "outputs": [
    {
     "data": {
      "text/html": [
       "<div>\n",
       "<style scoped>\n",
       "    .dataframe tbody tr th:only-of-type {\n",
       "        vertical-align: middle;\n",
       "    }\n",
       "\n",
       "    .dataframe tbody tr th {\n",
       "        vertical-align: top;\n",
       "    }\n",
       "\n",
       "    .dataframe thead th {\n",
       "        text-align: right;\n",
       "    }\n",
       "</style>\n",
       "<table border=\"1\" class=\"dataframe\">\n",
       "  <thead>\n",
       "    <tr style=\"text-align: right;\">\n",
       "      <th></th>\n",
       "      <th>coef</th>\n",
       "      <th>std err</th>\n",
       "      <th>z</th>\n",
       "      <th>P&gt;|z|</th>\n",
       "      <th>[0.025</th>\n",
       "      <th>0.975]</th>\n",
       "    </tr>\n",
       "  </thead>\n",
       "  <tbody>\n",
       "    <tr>\n",
       "      <th>Total_Past_Communications</th>\n",
       "      <td>0.0226</td>\n",
       "      <td>0.002</td>\n",
       "      <td>11.105</td>\n",
       "      <td>0.0</td>\n",
       "      <td>0.019</td>\n",
       "      <td>0.027</td>\n",
       "    </tr>\n",
       "    <tr>\n",
       "      <th>Total_Links</th>\n",
       "      <td>0.0205</td>\n",
       "      <td>0.005</td>\n",
       "      <td>3.775</td>\n",
       "      <td>0.0</td>\n",
       "      <td>0.010</td>\n",
       "      <td>0.031</td>\n",
       "    </tr>\n",
       "  </tbody>\n",
       "</table>\n",
       "</div>"
      ],
      "text/plain": [
       "                             coef  std err       z  P>|z|  [0.025  0.975]\n",
       "Total_Past_Communications  0.0226    0.002  11.105    0.0   0.019   0.027\n",
       "Total_Links                0.0205    0.005   3.775    0.0   0.010   0.031"
      ]
     },
     "execution_count": 161,
     "metadata": {},
     "output_type": "execute_result"
    }
   ],
   "source": [
    "#print the coefficients of the model which are statistically significant and have a positive correlation with the target\n",
    "\n",
    "logit_df[(logit_df['P>|z|']<0.05) & (logit_df['coef']>0)]\n",
    "\n",
    "\n",
    "#As we can see, the \"Total_Past_Communications\"  and \"Total_Links\" variables have a positive correlation with the target variable \n",
    "# and are also statistically significant(p<0.05). "
   ]
  },
  {
   "cell_type": "markdown",
   "metadata": {},
   "source": [
    "&nbsp;&nbsp;&nbsp;&nbsp;&nbsp;&nbsp;&nbsp;&nbsp;&nbsp;&nbsp;&nbsp;&nbsp;**ii.** **(`3 pts`)**\n",
    "which variables have a statistically significant negative correlation with the target?"
   ]
  },
  {
   "cell_type": "code",
   "execution_count": 162,
   "metadata": {},
   "outputs": [
    {
     "data": {
      "text/html": [
       "<div>\n",
       "<style scoped>\n",
       "    .dataframe tbody tr th:only-of-type {\n",
       "        vertical-align: middle;\n",
       "    }\n",
       "\n",
       "    .dataframe tbody tr th {\n",
       "        vertical-align: top;\n",
       "    }\n",
       "\n",
       "    .dataframe thead th {\n",
       "        text-align: right;\n",
       "    }\n",
       "</style>\n",
       "<table border=\"1\" class=\"dataframe\">\n",
       "  <thead>\n",
       "    <tr style=\"text-align: right;\">\n",
       "      <th></th>\n",
       "      <th>coef</th>\n",
       "      <th>std err</th>\n",
       "      <th>z</th>\n",
       "      <th>P&gt;|z|</th>\n",
       "      <th>[0.025</th>\n",
       "      <th>0.975]</th>\n",
       "    </tr>\n",
       "  </thead>\n",
       "  <tbody>\n",
       "    <tr>\n",
       "      <th>Subject_Hotness_Score</th>\n",
       "      <td>-0.1950</td>\n",
       "      <td>0.051</td>\n",
       "      <td>-3.805</td>\n",
       "      <td>0.0</td>\n",
       "      <td>-0.295</td>\n",
       "      <td>-0.095</td>\n",
       "    </tr>\n",
       "    <tr>\n",
       "      <th>Word_Count</th>\n",
       "      <td>-0.0008</td>\n",
       "      <td>0.000</td>\n",
       "      <td>-8.106</td>\n",
       "      <td>0.0</td>\n",
       "      <td>-0.001</td>\n",
       "      <td>-0.001</td>\n",
       "    </tr>\n",
       "  </tbody>\n",
       "</table>\n",
       "</div>"
      ],
      "text/plain": [
       "                         coef  std err      z  P>|z|  [0.025  0.975]\n",
       "Subject_Hotness_Score -0.1950    0.051 -3.805    0.0  -0.295  -0.095\n",
       "Word_Count            -0.0008    0.000 -8.106    0.0  -0.001  -0.001"
      ]
     },
     "execution_count": 162,
     "metadata": {},
     "output_type": "execute_result"
    }
   ],
   "source": [
    "#print the coefficients of the model which are statistically significant and have a negative correlation with the target\n",
    "\n",
    "logit_df[(logit_df['P>|z|']<0.05) & (logit_df['coef']<0)]\n",
    "\n",
    "\n",
    "#As we can see, the \"Subject_Hotness_Score\"  and \"Word_Count\" variables have a negative correlation with the target variable \n",
    "# and are also statistically significant (p<0.05). "
   ]
  },
  {
   "cell_type": "markdown",
   "metadata": {},
   "source": [
    "&nbsp;&nbsp;&nbsp;&nbsp;&nbsp;&nbsp;&nbsp;&nbsp;&nbsp;&nbsp;&nbsp;&nbsp;**iii.** **(`4 pts`)**\n",
    "What suggestions can you make based on these results? "
   ]
  },
  {
   "cell_type": "code",
   "execution_count": 163,
   "metadata": {},
   "outputs": [],
   "source": [
    "#based on these variable coefficients, suggestions would be:\n",
    "#1. Increase the \"Total_Past_Communications\" and \"Total_Links\" - meaning send more emails to get more conversions\n",
    "#2. Decrease the \"Subject_Hotness_Score\" and \"Word_Count\" - Communication should have fewer words and less subject hotness"
   ]
  },
  {
   "cell_type": "markdown",
   "metadata": {},
   "source": [
    "&nbsp;&nbsp;&nbsp;&nbsp;&nbsp;&nbsp;**c.** **(`5 pts`)** Use your model to get predictions using the test data.  Remember that your fit model is the result of the `.fit()` call (e.g., `my_fit = my_model.fit()`).  The resulting object has a `.predict` method (e.g., `my_fit.predict()`) that will generate predictions using your model on the specified data.  <br>Get predictions by applying the model you just fit to the _test_ data.  Save the predictions to a variable.<br>"
   ]
  },
  {
   "cell_type": "code",
   "execution_count": 164,
   "metadata": {},
   "outputs": [],
   "source": [
    "#use the model to predict the probability of conversion for the test set\n",
    "in_sample_preds = logit_fit.predict(X_train)\n",
    "out_sample_preds = logit_fit.predict(X_test)"
   ]
  },
  {
   "cell_type": "markdown",
   "metadata": {},
   "source": [
    "&nbsp;&nbsp;&nbsp;&nbsp;&nbsp;&nbsp;**d.**  **(`5 pts`)** The ROC AUC score informs you as to how good your model is at telling which emails are more likely to result in conversions than others. You can use the Scikit-Learn function `sklearn.metrics.roc_auc_score` to compute this. This function has two inputs: predictions and the actual value from the data.  You already have both of these variables. *You may want to take a look at Chapter 8's Notebook for more details on this metric*"
   ]
  },
  {
   "cell_type": "code",
   "execution_count": 165,
   "metadata": {},
   "outputs": [
    {
     "name": "stdout",
     "output_type": "stream",
     "text": [
      "In-Sample AUC: 0.7935\n",
      "Out-Sample AUC: 0.7809\n",
      "[1.42582119 0.42582119 0.4068055  ... 0.00421723 0.00421673 0.00273666]\n"
     ]
    }
   ],
   "source": [
    "in_sample_roc_auc = roc_auc_score(y_train, in_sample_preds)\n",
    "out_sample_roc_auc = roc_auc_score(y_test, out_sample_preds)\n",
    "\n",
    "#   d= roc_auc_score(y_train, in_sample_preds > threshold)\n",
    "print('In-Sample AUC: %0.4f' % in_sample_roc_auc)\n",
    "print('Out-Sample AUC: %0.4f' % out_sample_roc_auc)\n"
   ]
  }
 ],
 "metadata": {
  "application/vnd.databricks.v1+notebook": {
   "dashboards": [],
   "language": "python",
   "notebookName": "coding challenge",
   "notebookOrigID": 3716877220258601,
   "widgets": {}
  },
  "kernelspec": {
   "display_name": "Python 3 (ipykernel)",
   "language": "python",
   "name": "python3"
  },
  "language_info": {
   "codemirror_mode": {
    "name": "ipython",
    "version": 3
   },
   "file_extension": ".py",
   "mimetype": "text/x-python",
   "name": "python",
   "nbconvert_exporter": "python",
   "pygments_lexer": "ipython3",
   "version": "3.9.7"
  }
 },
 "nbformat": 4,
 "nbformat_minor": 1
}
