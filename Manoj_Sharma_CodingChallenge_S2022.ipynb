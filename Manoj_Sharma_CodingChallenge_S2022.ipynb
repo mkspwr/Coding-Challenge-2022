{
 "cells": [
  {
   "cell_type": "markdown",
   "metadata": {
    "application/vnd.databricks.v1+cell": {
     "inputWidgets": {},
     "nuid": "189601c3-be27-4da5-8cc7-f0b6f87b6102",
     "showTitle": false,
     "title": ""
    }
   },
   "source": [
    "# IMST E-111 Coding Challenge Fall 2021\n",
    "#### Make sure to include any relevant code when providing all answers. \n",
    "Save this as a `.ipynb` file with all results visible and send it to Vasya when you're done.<br>\n",
    "Enter your code into *this* notebook **AND** Enter your name in the following cell (`5 pts`)\n",
    "\n",
    "#### Always show your work, and if there is a question being asked be sure to answer it.\n",
    "You can answer with a comment, print statement or markdown cell <br>(remember a comment is preceded by a hash symbol `#here is my comment`)\n",
    "\n",
    "\n",
    "### Challenge is out of 150 points \n",
    "  * **100 points for the main challenge**\n",
    "  * **50 bonus points for extra credit**\n",
    " \n",
    "#### Notes\n",
    "* Dont worry about missing values, they're addressed in the Extra Credit portion\n",
    "\n",
    "#### Submission\n",
    "* send this completed .ipynb (with all cells run) to vasyatheta@gmail.com with your first and last name in the filename (e.g., `Vasya_Selsov_CodingChallenge_S2022.ipynb`)\n",
    "* If you cant find the location of this notebook you can run the following to find your notebook:<br> \n",
    "`import os`<br>\n",
    "`print(os.getcwd())`<br>\n",
    "Drag and drop that .ipynb file into your email"
   ]
  },
  {
   "cell_type": "code",
   "execution_count": 122,
   "metadata": {},
   "outputs": [],
   "source": [
    "#name: Manoj Sharma"
   ]
  },
  {
   "cell_type": "code",
   "execution_count": 123,
   "metadata": {},
   "outputs": [],
   "source": [
    "%matplotlib inline\n",
    "import numpy as np\n",
    "from sklearn.linear_model import LogisticRegression\n",
    "import matplotlib.pyplot as plt\n",
    "import pandas as pd"
   ]
  },
  {
   "cell_type": "markdown",
   "metadata": {
    "application/vnd.databricks.v1+cell": {
     "inputWidgets": {},
     "nuid": "d9e01958-0f72-4095-a493-f0884466db78",
     "showTitle": false,
     "title": ""
    }
   },
   "source": [
    "### 1. Load your Data and Take a Look\n",
    "\n",
    "&nbsp;&nbsp;&nbsp;&nbsp;&nbsp;&nbsp;**a.** **(`10 pts`)** Load the training data (found in the same github repo as this notebook) into this notebook using Pandas. \n",
    "\n",
    "&nbsp;&nbsp;&nbsp;&nbsp;&nbsp;&nbsp;**b.** **(`5 pts`)** Show the first 10 lines of the data."
   ]
  },
  {
   "cell_type": "code",
   "execution_count": 124,
   "metadata": {},
   "outputs": [],
   "source": [
    "#Loading the data from codingdata.csv file, which is in the same directory as this file\n",
    "#The data is in the form of a csv file, and separater is ','\n",
    "df = pd.read_csv('codingdata.csv', sep=\",\")\n"
   ]
  },
  {
   "cell_type": "code",
   "execution_count": 125,
   "metadata": {},
   "outputs": [
    {
     "data": {
      "text/plain": [
       "(68353, 12)"
      ]
     },
     "execution_count": 125,
     "metadata": {},
     "output_type": "execute_result"
    }
   ],
   "source": [
    "#checking the no. of rows and no. of columns in the dataframe, to check if the data is loaded correctly\n",
    "df.shape"
   ]
  },
  {
   "cell_type": "code",
   "execution_count": 126,
   "metadata": {},
   "outputs": [
    {
     "data": {
      "text/html": [
       "<div>\n",
       "<style scoped>\n",
       "    .dataframe tbody tr th:only-of-type {\n",
       "        vertical-align: middle;\n",
       "    }\n",
       "\n",
       "    .dataframe tbody tr th {\n",
       "        vertical-align: top;\n",
       "    }\n",
       "\n",
       "    .dataframe thead th {\n",
       "        text-align: right;\n",
       "    }\n",
       "</style>\n",
       "<table border=\"1\" class=\"dataframe\">\n",
       "  <thead>\n",
       "    <tr style=\"text-align: right;\">\n",
       "      <th></th>\n",
       "      <th>Email_ID</th>\n",
       "      <th>Email_Type</th>\n",
       "      <th>Subject_Hotness_Score</th>\n",
       "      <th>Email_Source_Type</th>\n",
       "      <th>Customer_Location</th>\n",
       "      <th>Email_Campaign_Type</th>\n",
       "      <th>Total_Past_Communications</th>\n",
       "      <th>Time_Email_sent_Category</th>\n",
       "      <th>Word_Count</th>\n",
       "      <th>Total_Links</th>\n",
       "      <th>Total_Images</th>\n",
       "      <th>Email_Status</th>\n",
       "    </tr>\n",
       "  </thead>\n",
       "  <tbody>\n",
       "    <tr>\n",
       "      <th>0</th>\n",
       "      <td>EMA00081000034500</td>\n",
       "      <td>1</td>\n",
       "      <td>2.2</td>\n",
       "      <td>2</td>\n",
       "      <td>E</td>\n",
       "      <td>2</td>\n",
       "      <td>33.0</td>\n",
       "      <td>1</td>\n",
       "      <td>440</td>\n",
       "      <td>8.0</td>\n",
       "      <td>0.0</td>\n",
       "      <td>0</td>\n",
       "    </tr>\n",
       "    <tr>\n",
       "      <th>1</th>\n",
       "      <td>EMA00081000045360</td>\n",
       "      <td>2</td>\n",
       "      <td>2.1</td>\n",
       "      <td>1</td>\n",
       "      <td>NaN</td>\n",
       "      <td>2</td>\n",
       "      <td>15.0</td>\n",
       "      <td>2</td>\n",
       "      <td>504</td>\n",
       "      <td>5.0</td>\n",
       "      <td>0.0</td>\n",
       "      <td>0</td>\n",
       "    </tr>\n",
       "    <tr>\n",
       "      <th>2</th>\n",
       "      <td>EMA00081000066290</td>\n",
       "      <td>2</td>\n",
       "      <td>0.1</td>\n",
       "      <td>1</td>\n",
       "      <td>B</td>\n",
       "      <td>3</td>\n",
       "      <td>36.0</td>\n",
       "      <td>2</td>\n",
       "      <td>962</td>\n",
       "      <td>5.0</td>\n",
       "      <td>0.0</td>\n",
       "      <td>1</td>\n",
       "    </tr>\n",
       "    <tr>\n",
       "      <th>3</th>\n",
       "      <td>EMA00081000076560</td>\n",
       "      <td>1</td>\n",
       "      <td>3.0</td>\n",
       "      <td>2</td>\n",
       "      <td>E</td>\n",
       "      <td>2</td>\n",
       "      <td>25.0</td>\n",
       "      <td>2</td>\n",
       "      <td>610</td>\n",
       "      <td>16.0</td>\n",
       "      <td>0.0</td>\n",
       "      <td>0</td>\n",
       "    </tr>\n",
       "    <tr>\n",
       "      <th>4</th>\n",
       "      <td>EMA00081000109720</td>\n",
       "      <td>1</td>\n",
       "      <td>0.0</td>\n",
       "      <td>2</td>\n",
       "      <td>C</td>\n",
       "      <td>3</td>\n",
       "      <td>18.0</td>\n",
       "      <td>2</td>\n",
       "      <td>947</td>\n",
       "      <td>4.0</td>\n",
       "      <td>0.0</td>\n",
       "      <td>0</td>\n",
       "    </tr>\n",
       "    <tr>\n",
       "      <th>5</th>\n",
       "      <td>EMA00081000131660</td>\n",
       "      <td>1</td>\n",
       "      <td>1.5</td>\n",
       "      <td>1</td>\n",
       "      <td>G</td>\n",
       "      <td>2</td>\n",
       "      <td>NaN</td>\n",
       "      <td>2</td>\n",
       "      <td>416</td>\n",
       "      <td>11.0</td>\n",
       "      <td>0.0</td>\n",
       "      <td>0</td>\n",
       "    </tr>\n",
       "    <tr>\n",
       "      <th>6</th>\n",
       "      <td>EMA00081000160500</td>\n",
       "      <td>1</td>\n",
       "      <td>3.2</td>\n",
       "      <td>1</td>\n",
       "      <td>E</td>\n",
       "      <td>2</td>\n",
       "      <td>34.0</td>\n",
       "      <td>3</td>\n",
       "      <td>116</td>\n",
       "      <td>4.0</td>\n",
       "      <td>0.0</td>\n",
       "      <td>0</td>\n",
       "    </tr>\n",
       "    <tr>\n",
       "      <th>7</th>\n",
       "      <td>EMA00081000269630</td>\n",
       "      <td>1</td>\n",
       "      <td>0.7</td>\n",
       "      <td>2</td>\n",
       "      <td>G</td>\n",
       "      <td>2</td>\n",
       "      <td>21.0</td>\n",
       "      <td>2</td>\n",
       "      <td>1241</td>\n",
       "      <td>6.0</td>\n",
       "      <td>2.0</td>\n",
       "      <td>0</td>\n",
       "    </tr>\n",
       "    <tr>\n",
       "      <th>8</th>\n",
       "      <td>EMA00081000287790</td>\n",
       "      <td>1</td>\n",
       "      <td>2.0</td>\n",
       "      <td>1</td>\n",
       "      <td>G</td>\n",
       "      <td>2</td>\n",
       "      <td>NaN</td>\n",
       "      <td>3</td>\n",
       "      <td>655</td>\n",
       "      <td>11.0</td>\n",
       "      <td>4.0</td>\n",
       "      <td>0</td>\n",
       "    </tr>\n",
       "    <tr>\n",
       "      <th>9</th>\n",
       "      <td>EMA00081000367310</td>\n",
       "      <td>2</td>\n",
       "      <td>0.5</td>\n",
       "      <td>1</td>\n",
       "      <td>G</td>\n",
       "      <td>2</td>\n",
       "      <td>40.0</td>\n",
       "      <td>3</td>\n",
       "      <td>655</td>\n",
       "      <td>11.0</td>\n",
       "      <td>0.0</td>\n",
       "      <td>0</td>\n",
       "    </tr>\n",
       "  </tbody>\n",
       "</table>\n",
       "</div>"
      ],
      "text/plain": [
       "            Email_ID  Email_Type  Subject_Hotness_Score  Email_Source_Type  \\\n",
       "0  EMA00081000034500           1                    2.2                  2   \n",
       "1  EMA00081000045360           2                    2.1                  1   \n",
       "2  EMA00081000066290           2                    0.1                  1   \n",
       "3  EMA00081000076560           1                    3.0                  2   \n",
       "4  EMA00081000109720           1                    0.0                  2   \n",
       "5  EMA00081000131660           1                    1.5                  1   \n",
       "6  EMA00081000160500           1                    3.2                  1   \n",
       "7  EMA00081000269630           1                    0.7                  2   \n",
       "8  EMA00081000287790           1                    2.0                  1   \n",
       "9  EMA00081000367310           2                    0.5                  1   \n",
       "\n",
       "  Customer_Location  Email_Campaign_Type  Total_Past_Communications  \\\n",
       "0                 E                    2                       33.0   \n",
       "1               NaN                    2                       15.0   \n",
       "2                 B                    3                       36.0   \n",
       "3                 E                    2                       25.0   \n",
       "4                 C                    3                       18.0   \n",
       "5                 G                    2                        NaN   \n",
       "6                 E                    2                       34.0   \n",
       "7                 G                    2                       21.0   \n",
       "8                 G                    2                        NaN   \n",
       "9                 G                    2                       40.0   \n",
       "\n",
       "   Time_Email_sent_Category  Word_Count  Total_Links  Total_Images  \\\n",
       "0                         1         440          8.0           0.0   \n",
       "1                         2         504          5.0           0.0   \n",
       "2                         2         962          5.0           0.0   \n",
       "3                         2         610         16.0           0.0   \n",
       "4                         2         947          4.0           0.0   \n",
       "5                         2         416         11.0           0.0   \n",
       "6                         3         116          4.0           0.0   \n",
       "7                         2        1241          6.0           2.0   \n",
       "8                         3         655         11.0           4.0   \n",
       "9                         3         655         11.0           0.0   \n",
       "\n",
       "   Email_Status  \n",
       "0             0  \n",
       "1             0  \n",
       "2             1  \n",
       "3             0  \n",
       "4             0  \n",
       "5             0  \n",
       "6             0  \n",
       "7             0  \n",
       "8             0  \n",
       "9             0  "
      ]
     },
     "execution_count": 126,
     "metadata": {},
     "output_type": "execute_result"
    }
   ],
   "source": [
    "#checking the data types of each column in the dataframe, and showing first 10 rows\n",
    "df.head(10)"
   ]
  },
  {
   "cell_type": "code",
   "execution_count": 127,
   "metadata": {},
   "outputs": [
    {
     "data": {
      "text/plain": [
       "Email_ID                      object\n",
       "Email_Type                     int64\n",
       "Subject_Hotness_Score        float64\n",
       "Email_Source_Type              int64\n",
       "Customer_Location             object\n",
       "Email_Campaign_Type            int64\n",
       "Total_Past_Communications    float64\n",
       "Time_Email_sent_Category       int64\n",
       "Word_Count                     int64\n",
       "Total_Links                  float64\n",
       "Total_Images                 float64\n",
       "Email_Status                   int64\n",
       "dtype: object"
      ]
     },
     "execution_count": 127,
     "metadata": {},
     "output_type": "execute_result"
    }
   ],
   "source": [
    "#As we can see the data was loaded correctly, and we are able to see the columns and rows of the dataframe\n",
    "#Now we will check the data types of each column in the dataframe\n",
    "df.dtypes"
   ]
  },
  {
   "cell_type": "markdown",
   "metadata": {
    "application/vnd.databricks.v1+cell": {
     "inputWidgets": {},
     "nuid": "f71154a2-ac71-42a9-9f68-f74c8818dab7",
     "showTitle": false,
     "title": ""
    }
   },
   "source": [
    "### 2.  Define and describe your target variable\n",
    "The `email status` column contains three values with the following definitions.  \n",
    "`0=ignored` `1=read` and `2=converted`\n",
    "* Ignored means that the customer did not interact with the email\n",
    "* Read means that a customer opened the email\n",
    "* Converted means that the customer clicked on the link for the product page within the email. \n",
    "\n",
    "The company considers an `email_status` of `2` as a conversion, (statuses 0 and 1 are non-conversions)."
   ]
  },
  {
   "cell_type": "markdown",
   "metadata": {
    "application/vnd.databricks.v1+cell": {
     "inputWidgets": {},
     "nuid": "e7f9719b-1831-4ef0-8600-c02a999fa3ce",
     "showTitle": false,
     "title": ""
    }
   },
   "source": [
    "&nbsp;&nbsp;&nbsp;&nbsp;&nbsp;&nbsp;**a.** **(`10 pts`)** Create a new column called `conversion` that has a value of `1` when the email was follwed by a conversion and is `0` otherwise."
   ]
  },
  {
   "cell_type": "code",
   "execution_count": 128,
   "metadata": {
    "application/vnd.databricks.v1+cell": {
     "inputWidgets": {},
     "nuid": "05d68f3c-01b1-4c7f-b3fd-ac3e14511861",
     "showTitle": false,
     "title": ""
    }
   },
   "outputs": [],
   "source": [
    "df['conversion'] = df['Email_Status'].apply(lambda x: 1 if x == 2 else 0)"
   ]
  },
  {
   "cell_type": "markdown",
   "metadata": {
    "application/vnd.databricks.v1+cell": {
     "inputWidgets": {},
     "nuid": "659af248-f7af-4df9-aa2a-f72ff215fce4",
     "showTitle": false,
     "title": ""
    }
   },
   "source": [
    "&nbsp;&nbsp;&nbsp;&nbsp;&nbsp;&nbsp;**b.**  **(`10 pts`)** How many conversions are in this dataset?<br>"
   ]
  },
  {
   "cell_type": "code",
   "execution_count": 130,
   "metadata": {
    "application/vnd.databricks.v1+cell": {
     "inputWidgets": {},
     "nuid": "be5bbcd8-88e4-4236-8d7c-6422a00d491a",
     "showTitle": false,
     "title": ""
    }
   },
   "outputs": [
    {
     "data": {
      "text/plain": [
       "(2373, 13)"
      ]
     },
     "execution_count": 130,
     "metadata": {},
     "output_type": "execute_result"
    }
   ],
   "source": [
    "#how many rows have conversion = 1\n",
    "df[df['conversion'] == 1].shape\n",
    "\n",
    "#total no. of conversions in the dataset are 2373\n"
   ]
  },
  {
   "cell_type": "markdown",
   "metadata": {
    "application/vnd.databricks.v1+cell": {
     "inputWidgets": {},
     "nuid": "2f25e64a-688a-4203-a880-ca8c17f3540b",
     "showTitle": false,
     "title": ""
    }
   },
   "source": [
    "&nbsp;&nbsp;&nbsp;&nbsp;&nbsp;&nbsp;**c.**  **(`10 pts`)** What percent of all emails resulted in a conversion?<br><i>Show output you used to determine this answer and provide your answer as a comment</i>"
   ]
  },
  {
   "cell_type": "code",
   "execution_count": 131,
   "metadata": {
    "application/vnd.databricks.v1+cell": {
     "inputWidgets": {},
     "nuid": "72111f8d-e337-417a-863d-77436b7d5537",
     "showTitle": false,
     "title": ""
    }
   },
   "outputs": [
    {
     "data": {
      "text/plain": [
       "3.4716837593082963"
      ]
     },
     "execution_count": 131,
     "metadata": {},
     "output_type": "execute_result"
    }
   ],
   "source": [
    "#what is the conversion rate of the dataframe by percentage\n",
    "df[df['conversion'] == 1].shape[0]/df.shape[0]*100\n",
    "\n",
    "#The output of the above command is 3.47168%, which means that the conversion rate is 3.47%"
   ]
  },
  {
   "cell_type": "markdown",
   "metadata": {
    "application/vnd.databricks.v1+cell": {
     "inputWidgets": {},
     "nuid": "f207e6a1-20e3-4563-931b-43d9d9272a0a",
     "showTitle": false,
     "title": ""
    }
   },
   "source": [
    "### 3 Exploration"
   ]
  },
  {
   "cell_type": "markdown",
   "metadata": {
    "application/vnd.databricks.v1+cell": {
     "inputWidgets": {},
     "nuid": "e666c416-a222-461b-a060-249c92ca7266",
     "showTitle": false,
     "title": ""
    }
   },
   "source": [
    "&nbsp;&nbsp;&nbsp;&nbsp;&nbsp;&nbsp;**a.** The `Email_Campaign_Type` column captures the campaign under which the email was sent. A campaign is a marketing strategy.\n",
    "\n",
    "&nbsp;&nbsp;&nbsp;&nbsp;&nbsp;&nbsp;&nbsp;&nbsp;&nbsp;&nbsp;&nbsp;&nbsp;**i.**  **(`15 pts`)** Which campaign had the most conversions?"
   ]
  },
  {
   "cell_type": "code",
   "execution_count": 132,
   "metadata": {
    "application/vnd.databricks.v1+cell": {
     "inputWidgets": {},
     "nuid": "a14b43e9-979c-40b8-a14a-1fb5601e9030",
     "showTitle": false,
     "title": ""
    }
   },
   "outputs": [
    {
     "data": {
      "text/plain": [
       "Email_Campaign_Type\n",
       "1     173\n",
       "2     712\n",
       "3    1488\n",
       "Name: conversion, dtype: int64"
      ]
     },
     "execution_count": 132,
     "metadata": {},
     "output_type": "execute_result"
    }
   ],
   "source": [
    "#show no. of conversions by Email_Campaign_Type\n",
    "df.groupby('Email_Campaign_Type').conversion.sum()\n"
   ]
  },
  {
   "cell_type": "markdown",
   "metadata": {
    "application/vnd.databricks.v1+cell": {
     "inputWidgets": {},
     "nuid": "bf2d66b5-cfb6-4a9f-bb23-42fddce0eb72",
     "showTitle": false,
     "title": ""
    }
   },
   "source": [
    "&nbsp;&nbsp;&nbsp;&nbsp;&nbsp;&nbsp;&nbsp;&nbsp;&nbsp;&nbsp;&nbsp;&nbsp;**ii.**  **(`15 pts`)** Which campaign has the highest conversion rate?"
   ]
  },
  {
   "cell_type": "code",
   "execution_count": 134,
   "metadata": {
    "application/vnd.databricks.v1+cell": {
     "inputWidgets": {},
     "nuid": "071e3e06-5957-4bdc-82c1-3924061ac580",
     "showTitle": false,
     "title": ""
    }
   },
   "outputs": [],
   "source": [
    "#which campaigns have the highest conversion percentage based on no. of conversions\n",
    "conversion_rate_by_campaign = df.groupby(\n",
    "    by='Email_Campaign_Type'\n",
    ")['conversion'].sum() / df.groupby(\n",
    "    by='Email_Campaign_Type'\n",
    ")['conversion'].count() * 100.0\n",
    "\n"
   ]
  },
  {
   "cell_type": "code",
   "execution_count": 207,
   "metadata": {},
   "outputs": [
    {
     "data": {
      "text/plain": [
       "Email_Campaign_Type\n",
       "1    23.51%\n",
       "3     7.69%\n",
       "2     1.47%\n",
       "Name: conversion, dtype: object"
      ]
     },
     "execution_count": 207,
     "metadata": {},
     "output_type": "execute_result"
    }
   ],
   "source": [
    "\n",
    "#which campaigns have the highest conversion percentage based on no. of conversions\n",
    "conversion_rate_by_campaign.sort_values(ascending=False).map('{:,.2f}%'.format)\n",
    "\n",
    "#Email_Campaign_Type_1 has the highest conversion rate of 23.5%\n"
   ]
  },
  {
   "cell_type": "markdown",
   "metadata": {
    "application/vnd.databricks.v1+cell": {
     "inputWidgets": {},
     "nuid": "228dfaee-79ba-4bf6-b31a-c26e1dff3f29",
     "showTitle": false,
     "title": ""
    }
   },
   "source": [
    "&nbsp;&nbsp;&nbsp;&nbsp;&nbsp;&nbsp;**b**.\n",
    "`Total_Past_Communications` is a count of the number of times the customer has been contacted prior to the current email. \n",
    "\n",
    "&nbsp;&nbsp;&nbsp;&nbsp;&nbsp;&nbsp;&nbsp;&nbsp;&nbsp;&nbsp;&nbsp;&nbsp;**i.** **(`11 pts`)** Create a box plot showing the distribution of `Total_Past_Communications` by `conversion`. \n",
    "\n",
    "&nbsp;&nbsp;&nbsp;&nbsp;&nbsp;&nbsp;&nbsp;&nbsp;&nbsp;&nbsp;&nbsp;&nbsp;**ii** **(`6 pts`)** How do conversions relate to the number of times a customer had been emailed?  Set the title to something that briefly summarizes this relationship. \n",
    "\n",
    "&nbsp;&nbsp;&nbsp;&nbsp;&nbsp;&nbsp;&nbsp;&nbsp;&nbsp;&nbsp;&nbsp;&nbsp;**iii.** **(`2 pts`)** Set the x-label to be `Conversion Status` and the y-label to be `Previous Emails`\n",
    "\n",
    "&nbsp;&nbsp;&nbsp;&nbsp;&nbsp;&nbsp;&nbsp;&nbsp;&nbsp;&nbsp;&nbsp;&nbsp;**iv** **(`1 pts`)** Prevent the default text `'Boxplot grouped by conversion'` from displaying in the title of the boxplot, and do not show extreme values / outliers.  Then show your plot!\n",
    "\n",
    "_note: the output should be one boxplot, rather than one boxplot per sub-question_"
   ]
  },
  {
   "cell_type": "code",
   "execution_count": 136,
   "metadata": {},
   "outputs": [
    {
     "data": {
      "image/png": "[encoded data removed]",
      "text/plain": [
       "<Figure size 720x504 with 1 Axes>"
      ]
     },
     "metadata": {
      "needs_background": "light"
     },
     "output_type": "display_data"
    }
   ],
   "source": [
    "ax = df[['conversion', 'Total_Past_Communications']].boxplot(\n",
    "    by='conversion',\n",
    "    showfliers=False,\n",
    "    figsize=(10, 7)\n",
    ")\n",
    "\n",
    "ax.set_xlabel('Conversion Status')\n",
    "ax.set_ylabel('Previous Emails')\n",
    "ax.set_title('More emails result in higher conversion')\n",
    "\n",
    "plt.suptitle(\"Hint : Send more emails to get more conversions\")\n",
    "plt.show()"
   ]
  },
  {
   "cell_type": "markdown",
   "metadata": {},
   "source": [
    "***\n",
    "You're done!  You can relax and submit this assignment! <br>If you're feeling ambitious, you can try your hand at the _extra credit_ portion below.  "
   ]
  },
  {
   "cell_type": "markdown",
   "metadata": {
    "application/vnd.databricks.v1+cell": {
     "inputWidgets": {},
     "nuid": "180af1b5-c419-466e-8ed4-3ac0d60ddbae",
     "showTitle": false,
     "title": ""
    }
   },
   "source": [
    "***\n",
    "# Extra Credit: Build, Interpret and Assess a Machine Learning Model to Predict Conversion Rate\n",
    "\n",
    "**1.  Data Cleaning & Prep** \n",
    "We'll be encoding a categorical variable, joining it to all of our numerical variables and generating a train-test split to train and test our model.<br>"
   ]
  },
  {
   "cell_type": "markdown",
   "metadata": {},
   "source": [
    "&nbsp;&nbsp;&nbsp;&nbsp;&nbsp;&nbsp;**a.** **(`5 pts`)** Which columns are categorical columns and which are numerical? Create a list of categorical column names and a list of numerical column names. Ignore the following columns: `Email_ID`, `Email_Status`, `conversion`.  You should have ten columns to categorize.  Save each list to a variable (e.g., `my_var = ['a', 'b', 'c']`)"
   ]
  },
  {
   "cell_type": "code",
   "execution_count": 137,
   "metadata": {
    "application/vnd.databricks.v1+cell": {
     "inputWidgets": {},
     "nuid": "20927b18-3168-42ae-a869-378f470a5fa3",
     "showTitle": false,
     "title": ""
    }
   },
   "outputs": [
    {
     "data": {
      "text/html": [
       "<div>\n",
       "<style scoped>\n",
       "    .dataframe tbody tr th:only-of-type {\n",
       "        vertical-align: middle;\n",
       "    }\n",
       "\n",
       "    .dataframe tbody tr th {\n",
       "        vertical-align: top;\n",
       "    }\n",
       "\n",
       "    .dataframe thead th {\n",
       "        text-align: right;\n",
       "    }\n",
       "</style>\n",
       "<table border=\"1\" class=\"dataframe\">\n",
       "  <thead>\n",
       "    <tr style=\"text-align: right;\">\n",
       "      <th></th>\n",
       "      <th>Email_Type</th>\n",
       "      <th>Subject_Hotness_Score</th>\n",
       "      <th>Email_Source_Type</th>\n",
       "      <th>Email_Campaign_Type</th>\n",
       "      <th>Total_Past_Communications</th>\n",
       "      <th>Time_Email_sent_Category</th>\n",
       "      <th>Word_Count</th>\n",
       "      <th>Total_Links</th>\n",
       "      <th>Total_Images</th>\n",
       "      <th>Email_Status</th>\n",
       "      <th>conversion</th>\n",
       "    </tr>\n",
       "  </thead>\n",
       "  <tbody>\n",
       "    <tr>\n",
       "      <th>count</th>\n",
       "      <td>68353.000000</td>\n",
       "      <td>68353.000000</td>\n",
       "      <td>68353.000000</td>\n",
       "      <td>68353.000000</td>\n",
       "      <td>61528.000000</td>\n",
       "      <td>68353.000000</td>\n",
       "      <td>68353.000000</td>\n",
       "      <td>66152.000000</td>\n",
       "      <td>66676.000000</td>\n",
       "      <td>68353.000000</td>\n",
       "      <td>68353.000000</td>\n",
       "    </tr>\n",
       "    <tr>\n",
       "      <th>mean</th>\n",
       "      <td>1.285094</td>\n",
       "      <td>1.095481</td>\n",
       "      <td>1.456513</td>\n",
       "      <td>2.272234</td>\n",
       "      <td>28.933250</td>\n",
       "      <td>1.999298</td>\n",
       "      <td>699.931751</td>\n",
       "      <td>10.429526</td>\n",
       "      <td>3.550678</td>\n",
       "      <td>0.230934</td>\n",
       "      <td>0.034717</td>\n",
       "    </tr>\n",
       "    <tr>\n",
       "      <th>std</th>\n",
       "      <td>0.451462</td>\n",
       "      <td>0.997578</td>\n",
       "      <td>0.498109</td>\n",
       "      <td>0.468680</td>\n",
       "      <td>12.536518</td>\n",
       "      <td>0.631103</td>\n",
       "      <td>271.719440</td>\n",
       "      <td>6.383270</td>\n",
       "      <td>5.596983</td>\n",
       "      <td>0.497032</td>\n",
       "      <td>0.183063</td>\n",
       "    </tr>\n",
       "    <tr>\n",
       "      <th>min</th>\n",
       "      <td>1.000000</td>\n",
       "      <td>0.000000</td>\n",
       "      <td>1.000000</td>\n",
       "      <td>1.000000</td>\n",
       "      <td>0.000000</td>\n",
       "      <td>1.000000</td>\n",
       "      <td>40.000000</td>\n",
       "      <td>1.000000</td>\n",
       "      <td>0.000000</td>\n",
       "      <td>0.000000</td>\n",
       "      <td>0.000000</td>\n",
       "    </tr>\n",
       "    <tr>\n",
       "      <th>25%</th>\n",
       "      <td>1.000000</td>\n",
       "      <td>0.200000</td>\n",
       "      <td>1.000000</td>\n",
       "      <td>2.000000</td>\n",
       "      <td>20.000000</td>\n",
       "      <td>2.000000</td>\n",
       "      <td>521.000000</td>\n",
       "      <td>6.000000</td>\n",
       "      <td>0.000000</td>\n",
       "      <td>0.000000</td>\n",
       "      <td>0.000000</td>\n",
       "    </tr>\n",
       "    <tr>\n",
       "      <th>50%</th>\n",
       "      <td>1.000000</td>\n",
       "      <td>0.800000</td>\n",
       "      <td>1.000000</td>\n",
       "      <td>2.000000</td>\n",
       "      <td>28.000000</td>\n",
       "      <td>2.000000</td>\n",
       "      <td>694.000000</td>\n",
       "      <td>9.000000</td>\n",
       "      <td>0.000000</td>\n",
       "      <td>0.000000</td>\n",
       "      <td>0.000000</td>\n",
       "    </tr>\n",
       "    <tr>\n",
       "      <th>75%</th>\n",
       "      <td>2.000000</td>\n",
       "      <td>1.800000</td>\n",
       "      <td>2.000000</td>\n",
       "      <td>3.000000</td>\n",
       "      <td>38.000000</td>\n",
       "      <td>2.000000</td>\n",
       "      <td>880.000000</td>\n",
       "      <td>14.000000</td>\n",
       "      <td>5.000000</td>\n",
       "      <td>0.000000</td>\n",
       "      <td>0.000000</td>\n",
       "    </tr>\n",
       "    <tr>\n",
       "      <th>max</th>\n",
       "      <td>2.000000</td>\n",
       "      <td>5.000000</td>\n",
       "      <td>2.000000</td>\n",
       "      <td>3.000000</td>\n",
       "      <td>67.000000</td>\n",
       "      <td>3.000000</td>\n",
       "      <td>1316.000000</td>\n",
       "      <td>49.000000</td>\n",
       "      <td>45.000000</td>\n",
       "      <td>2.000000</td>\n",
       "      <td>1.000000</td>\n",
       "    </tr>\n",
       "  </tbody>\n",
       "</table>\n",
       "</div>"
      ],
      "text/plain": [
       "         Email_Type  Subject_Hotness_Score  Email_Source_Type  \\\n",
       "count  68353.000000           68353.000000       68353.000000   \n",
       "mean       1.285094               1.095481           1.456513   \n",
       "std        0.451462               0.997578           0.498109   \n",
       "min        1.000000               0.000000           1.000000   \n",
       "25%        1.000000               0.200000           1.000000   \n",
       "50%        1.000000               0.800000           1.000000   \n",
       "75%        2.000000               1.800000           2.000000   \n",
       "max        2.000000               5.000000           2.000000   \n",
       "\n",
       "       Email_Campaign_Type  Total_Past_Communications  \\\n",
       "count         68353.000000               61528.000000   \n",
       "mean              2.272234                  28.933250   \n",
       "std               0.468680                  12.536518   \n",
       "min               1.000000                   0.000000   \n",
       "25%               2.000000                  20.000000   \n",
       "50%               2.000000                  28.000000   \n",
       "75%               3.000000                  38.000000   \n",
       "max               3.000000                  67.000000   \n",
       "\n",
       "       Time_Email_sent_Category    Word_Count   Total_Links  Total_Images  \\\n",
       "count              68353.000000  68353.000000  66152.000000  66676.000000   \n",
       "mean                   1.999298    699.931751     10.429526      3.550678   \n",
       "std                    0.631103    271.719440      6.383270      5.596983   \n",
       "min                    1.000000     40.000000      1.000000      0.000000   \n",
       "25%                    2.000000    521.000000      6.000000      0.000000   \n",
       "50%                    2.000000    694.000000      9.000000      0.000000   \n",
       "75%                    2.000000    880.000000     14.000000      5.000000   \n",
       "max                    3.000000   1316.000000     49.000000     45.000000   \n",
       "\n",
       "       Email_Status    conversion  \n",
       "count  68353.000000  68353.000000  \n",
       "mean       0.230934      0.034717  \n",
       "std        0.497032      0.183063  \n",
       "min        0.000000      0.000000  \n",
       "25%        0.000000      0.000000  \n",
       "50%        0.000000      0.000000  \n",
       "75%        0.000000      0.000000  \n",
       "max        2.000000      1.000000  "
      ]
     },
     "execution_count": 137,
     "metadata": {},
     "output_type": "execute_result"
    }
   ],
   "source": [
    "df.describe()\n"
   ]
  },
  {
   "cell_type": "code",
   "execution_count": 140,
   "metadata": {},
   "outputs": [
    {
     "data": {
      "text/plain": [
       "['Email_ID',\n",
       " 'Email_Type',\n",
       " 'Subject_Hotness_Score',\n",
       " 'Email_Source_Type',\n",
       " 'Customer_Location',\n",
       " 'Email_Campaign_Type',\n",
       " 'Total_Past_Communications',\n",
       " 'Time_Email_sent_Category',\n",
       " 'Word_Count',\n",
       " 'Total_Links',\n",
       " 'Total_Images',\n",
       " 'Email_Status',\n",
       " 'conversion']"
      ]
     },
     "execution_count": 140,
     "metadata": {},
     "output_type": "execute_result"
    }
   ],
   "source": [
    "#nedd to impute the missing values in the dataframe\n",
    "#impute missing Customer_location with \"unknown\"\n",
    "df.Customer_Location.fillna(\"unknown\", inplace=True)\n",
    "\n"
   ]
  },
  {
   "cell_type": "code",
   "execution_count": 147,
   "metadata": {
    "application/vnd.databricks.v1+cell": {
     "inputWidgets": {},
     "nuid": "454044e9-8fc4-4832-b99a-61c039c87250",
     "showTitle": false,
     "title": ""
    }
   },
   "outputs": [],
   "source": [
    "#listing categorical variables\n",
    "categorical_vars = [\n",
    "    'Email_Type',\n",
    " 'Email_Source_Type',\n",
    " 'Customer_Location',\n",
    " 'Email_Campaign_Type',\n",
    " 'Time_Email_sent_Category'\n",
    "]"
   ]
  },
  {
   "cell_type": "code",
   "execution_count": 148,
   "metadata": {},
   "outputs": [
    {
     "data": {
      "text/plain": [
       "Email_Type                  2\n",
       "Email_Source_Type           2\n",
       "Customer_Location           8\n",
       "Email_Campaign_Type         3\n",
       "Time_Email_sent_Category    3\n",
       "dtype: int64"
      ]
     },
     "execution_count": 148,
     "metadata": {},
     "output_type": "execute_result"
    }
   ],
   "source": [
    "df[categorical_vars].nunique()"
   ]
  },
  {
   "cell_type": "markdown",
   "metadata": {},
   "source": [
    "&nbsp;&nbsp;&nbsp;&nbsp;&nbsp;&nbsp;**c.** **(`10 pts`)** Add Dummy Variables!   (Hint: Follow the code in chapter 4)<br>\n",
    "&nbsp;&nbsp;&nbsp;&nbsp;&nbsp;&nbsp;&nbsp;&nbsp;&nbsp;&nbsp;&nbsp;&nbsp;**i.** Using `pd.get_dummies(<your_column_of_data>, drop_first=True)`, create a new dataframe that contains the dummy-variable version of `Email_Campaign_Type`. <br>**Note/Warning:** <i>This is a bit different than we did in class since we use the `drop_first` argument.  `drop_first` means:  Don't encode Campaign 1, just tell me how good Campaigns 2 & 3 are in relation to Campaign 1.  This is necessary for the model to produce sensible results</i><br>\n",
    "&nbsp;&nbsp;&nbsp;&nbsp;&nbsp;&nbsp;&nbsp;&nbsp;&nbsp;&nbsp;&nbsp;&nbsp;**ii.** Rename the columns of this dataframe to be `'Campaign_2','Campaign_3'`<br>\n",
    "&nbsp;&nbsp;&nbsp;&nbsp;&nbsp;&nbsp;&nbsp;&nbsp;&nbsp;&nbsp;&nbsp;&nbsp;**iii.** Concatenate this dataframe to the original dataframe.<br>\n",
    "&nbsp;&nbsp;&nbsp;&nbsp;&nbsp;&nbsp;&nbsp;&nbsp;&nbsp;&nbsp;&nbsp;&nbsp;**iv.** Create a variable called `all_features` that is a list of all the variables we want to use in our model.  This will be all numerical variables and the dummy variables `'Campaign_2','Campaign_3'`.  Print the variable (i.e., `print(all_features)`).  <br>\n"
   ]
  },
  {
   "cell_type": "code",
   "execution_count": 149,
   "metadata": {},
   "outputs": [
    {
     "data": {
      "text/plain": [
       "array([1, 2], dtype=int64)"
      ]
     },
     "execution_count": 149,
     "metadata": {},
     "output_type": "execute_result"
    }
   ],
   "source": [
    "#Encoding Email type\n",
    "df['Email_Type'].unique()"
   ]
  },
  {
   "cell_type": "code",
   "execution_count": 150,
   "metadata": {},
   "outputs": [],
   "source": [
    "Email_Type_encoded_df = pd.get_dummies(df['Email_Type'])\n",
    "Email_Type_encoded_df.columns = ['Email_Type%s' % x for x in Email_Type_encoded_df.columns]\n",
    "\n"
   ]
  },
  {
   "cell_type": "code",
   "execution_count": 151,
   "metadata": {},
   "outputs": [
    {
     "data": {
      "text/html": [
       "<div>\n",
       "<style scoped>\n",
       "    .dataframe tbody tr th:only-of-type {\n",
       "        vertical-align: middle;\n",
       "    }\n",
       "\n",
       "    .dataframe tbody tr th {\n",
       "        vertical-align: top;\n",
       "    }\n",
       "\n",
       "    .dataframe thead th {\n",
       "        text-align: right;\n",
       "    }\n",
       "</style>\n",
       "<table border=\"1\" class=\"dataframe\">\n",
       "  <thead>\n",
       "    <tr style=\"text-align: right;\">\n",
       "      <th></th>\n",
       "      <th>Email_Type1</th>\n",
       "      <th>Email_Type2</th>\n",
       "    </tr>\n",
       "  </thead>\n",
       "  <tbody>\n",
       "    <tr>\n",
       "      <th>0</th>\n",
       "      <td>1</td>\n",
       "      <td>0</td>\n",
       "    </tr>\n",
       "    <tr>\n",
       "      <th>1</th>\n",
       "      <td>0</td>\n",
       "      <td>1</td>\n",
       "    </tr>\n",
       "    <tr>\n",
       "      <th>2</th>\n",
       "      <td>0</td>\n",
       "      <td>1</td>\n",
       "    </tr>\n",
       "    <tr>\n",
       "      <th>3</th>\n",
       "      <td>1</td>\n",
       "      <td>0</td>\n",
       "    </tr>\n",
       "    <tr>\n",
       "      <th>4</th>\n",
       "      <td>1</td>\n",
       "      <td>0</td>\n",
       "    </tr>\n",
       "  </tbody>\n",
       "</table>\n",
       "</div>"
      ],
      "text/plain": [
       "   Email_Type1  Email_Type2\n",
       "0            1            0\n",
       "1            0            1\n",
       "2            0            1\n",
       "3            1            0\n",
       "4            1            0"
      ]
     },
     "execution_count": 151,
     "metadata": {},
     "output_type": "execute_result"
    }
   ],
   "source": [
    "Email_Type_encoded_df.head()"
   ]
  },
  {
   "cell_type": "code",
   "execution_count": 152,
   "metadata": {},
   "outputs": [
    {
     "data": {
      "text/html": [
       "<div>\n",
       "<style scoped>\n",
       "    .dataframe tbody tr th:only-of-type {\n",
       "        vertical-align: middle;\n",
       "    }\n",
       "\n",
       "    .dataframe tbody tr th {\n",
       "        vertical-align: top;\n",
       "    }\n",
       "\n",
       "    .dataframe thead th {\n",
       "        text-align: right;\n",
       "    }\n",
       "</style>\n",
       "<table border=\"1\" class=\"dataframe\">\n",
       "  <thead>\n",
       "    <tr style=\"text-align: right;\">\n",
       "      <th></th>\n",
       "      <th>Email_ID</th>\n",
       "      <th>Email_Type</th>\n",
       "      <th>Subject_Hotness_Score</th>\n",
       "      <th>Email_Source_Type</th>\n",
       "      <th>Customer_Location</th>\n",
       "      <th>Email_Campaign_Type</th>\n",
       "      <th>Total_Past_Communications</th>\n",
       "      <th>Time_Email_sent_Category</th>\n",
       "      <th>Word_Count</th>\n",
       "      <th>Total_Links</th>\n",
       "      <th>Total_Images</th>\n",
       "      <th>Email_Status</th>\n",
       "      <th>conversion</th>\n",
       "      <th>Email_Type1</th>\n",
       "      <th>Email_Type2</th>\n",
       "    </tr>\n",
       "  </thead>\n",
       "  <tbody>\n",
       "    <tr>\n",
       "      <th>0</th>\n",
       "      <td>EMA00081000034500</td>\n",
       "      <td>1</td>\n",
       "      <td>2.2</td>\n",
       "      <td>2</td>\n",
       "      <td>E</td>\n",
       "      <td>2</td>\n",
       "      <td>33.0</td>\n",
       "      <td>1</td>\n",
       "      <td>440</td>\n",
       "      <td>8.0</td>\n",
       "      <td>0.0</td>\n",
       "      <td>0</td>\n",
       "      <td>0</td>\n",
       "      <td>1</td>\n",
       "      <td>0</td>\n",
       "    </tr>\n",
       "    <tr>\n",
       "      <th>1</th>\n",
       "      <td>EMA00081000045360</td>\n",
       "      <td>2</td>\n",
       "      <td>2.1</td>\n",
       "      <td>1</td>\n",
       "      <td>unknown</td>\n",
       "      <td>2</td>\n",
       "      <td>15.0</td>\n",
       "      <td>2</td>\n",
       "      <td>504</td>\n",
       "      <td>5.0</td>\n",
       "      <td>0.0</td>\n",
       "      <td>0</td>\n",
       "      <td>0</td>\n",
       "      <td>0</td>\n",
       "      <td>1</td>\n",
       "    </tr>\n",
       "    <tr>\n",
       "      <th>2</th>\n",
       "      <td>EMA00081000066290</td>\n",
       "      <td>2</td>\n",
       "      <td>0.1</td>\n",
       "      <td>1</td>\n",
       "      <td>B</td>\n",
       "      <td>3</td>\n",
       "      <td>36.0</td>\n",
       "      <td>2</td>\n",
       "      <td>962</td>\n",
       "      <td>5.0</td>\n",
       "      <td>0.0</td>\n",
       "      <td>1</td>\n",
       "      <td>0</td>\n",
       "      <td>0</td>\n",
       "      <td>1</td>\n",
       "    </tr>\n",
       "    <tr>\n",
       "      <th>3</th>\n",
       "      <td>EMA00081000076560</td>\n",
       "      <td>1</td>\n",
       "      <td>3.0</td>\n",
       "      <td>2</td>\n",
       "      <td>E</td>\n",
       "      <td>2</td>\n",
       "      <td>25.0</td>\n",
       "      <td>2</td>\n",
       "      <td>610</td>\n",
       "      <td>16.0</td>\n",
       "      <td>0.0</td>\n",
       "      <td>0</td>\n",
       "      <td>0</td>\n",
       "      <td>1</td>\n",
       "      <td>0</td>\n",
       "    </tr>\n",
       "    <tr>\n",
       "      <th>4</th>\n",
       "      <td>EMA00081000109720</td>\n",
       "      <td>1</td>\n",
       "      <td>0.0</td>\n",
       "      <td>2</td>\n",
       "      <td>C</td>\n",
       "      <td>3</td>\n",
       "      <td>18.0</td>\n",
       "      <td>2</td>\n",
       "      <td>947</td>\n",
       "      <td>4.0</td>\n",
       "      <td>0.0</td>\n",
       "      <td>0</td>\n",
       "      <td>0</td>\n",
       "      <td>1</td>\n",
       "      <td>0</td>\n",
       "    </tr>\n",
       "  </tbody>\n",
       "</table>\n",
       "</div>"
      ],
      "text/plain": [
       "            Email_ID  Email_Type  Subject_Hotness_Score  Email_Source_Type  \\\n",
       "0  EMA00081000034500           1                    2.2                  2   \n",
       "1  EMA00081000045360           2                    2.1                  1   \n",
       "2  EMA00081000066290           2                    0.1                  1   \n",
       "3  EMA00081000076560           1                    3.0                  2   \n",
       "4  EMA00081000109720           1                    0.0                  2   \n",
       "\n",
       "  Customer_Location  Email_Campaign_Type  Total_Past_Communications  \\\n",
       "0                 E                    2                       33.0   \n",
       "1           unknown                    2                       15.0   \n",
       "2                 B                    3                       36.0   \n",
       "3                 E                    2                       25.0   \n",
       "4                 C                    3                       18.0   \n",
       "\n",
       "   Time_Email_sent_Category  Word_Count  Total_Links  Total_Images  \\\n",
       "0                         1         440          8.0           0.0   \n",
       "1                         2         504          5.0           0.0   \n",
       "2                         2         962          5.0           0.0   \n",
       "3                         2         610         16.0           0.0   \n",
       "4                         2         947          4.0           0.0   \n",
       "\n",
       "   Email_Status  conversion  Email_Type1  Email_Type2  \n",
       "0             0           0            1            0  \n",
       "1             0           0            0            1  \n",
       "2             1           0            0            1  \n",
       "3             0           0            1            0  \n",
       "4             0           0            1            0  "
      ]
     },
     "execution_count": 152,
     "metadata": {},
     "output_type": "execute_result"
    }
   ],
   "source": [
    "#joining the encoded Email_Type with the original dataframe\n",
    "df = pd.concat([df, Email_Type_encoded_df], axis=1)\n",
    "df.head()"
   ]
  },
  {
   "cell_type": "code",
   "execution_count": 153,
   "metadata": {},
   "outputs": [],
   "source": [
    "#Encoding Email source type, Customer location, Email campaign type, Time email sent category\n",
    "\n",
    "\n",
    "Email_Source_Type_encoded_df = pd.get_dummies(df['Email_Source_Type'])\n",
    "Email_Source_Type_encoded_df.columns = ['Email_Source_Type%s' % x for x in Email_Source_Type_encoded_df.columns]\n",
    "\n",
    "Customer_Location_encoded_df = pd.get_dummies(df['Customer_Location'])\n",
    "Customer_Location_encoded_df.columns = ['Customer_Location%s' % x for x in Customer_Location_encoded_df.columns]\n",
    "\n",
    "Email_Campaign_Type_encoded_df = pd.get_dummies(df['Email_Campaign_Type'])\n",
    "Email_Campaign_Type_encoded_df.columns = ['Email_Campaign_Type%s' % x for x in Email_Campaign_Type_encoded_df.columns]\n",
    "\n",
    "#Time_Email_sent_Category \n",
    "Time_Email_sent_Category_encoded_df = pd.get_dummies(df['Time_Email_sent_Category'])\n",
    "Time_Email_sent_Category_encoded_df.columns = ['Time_Email_sent_Category%s' % x for x in Time_Email_sent_Category_encoded_df.columns]\n",
    "\n"
   ]
  },
  {
   "cell_type": "code",
   "execution_count": 154,
   "metadata": {},
   "outputs": [
    {
     "data": {
      "text/html": [
       "<div>\n",
       "<style scoped>\n",
       "    .dataframe tbody tr th:only-of-type {\n",
       "        vertical-align: middle;\n",
       "    }\n",
       "\n",
       "    .dataframe tbody tr th {\n",
       "        vertical-align: top;\n",
       "    }\n",
       "\n",
       "    .dataframe thead th {\n",
       "        text-align: right;\n",
       "    }\n",
       "</style>\n",
       "<table border=\"1\" class=\"dataframe\">\n",
       "  <thead>\n",
       "    <tr style=\"text-align: right;\">\n",
       "      <th></th>\n",
       "      <th>Email_Source_Type1</th>\n",
       "      <th>Email_Source_Type2</th>\n",
       "    </tr>\n",
       "  </thead>\n",
       "  <tbody>\n",
       "    <tr>\n",
       "      <th>0</th>\n",
       "      <td>0</td>\n",
       "      <td>1</td>\n",
       "    </tr>\n",
       "    <tr>\n",
       "      <th>1</th>\n",
       "      <td>1</td>\n",
       "      <td>0</td>\n",
       "    </tr>\n",
       "    <tr>\n",
       "      <th>2</th>\n",
       "      <td>1</td>\n",
       "      <td>0</td>\n",
       "    </tr>\n",
       "    <tr>\n",
       "      <th>3</th>\n",
       "      <td>0</td>\n",
       "      <td>1</td>\n",
       "    </tr>\n",
       "    <tr>\n",
       "      <th>4</th>\n",
       "      <td>0</td>\n",
       "      <td>1</td>\n",
       "    </tr>\n",
       "  </tbody>\n",
       "</table>\n",
       "</div>"
      ],
      "text/plain": [
       "   Email_Source_Type1  Email_Source_Type2\n",
       "0                   0                   1\n",
       "1                   1                   0\n",
       "2                   1                   0\n",
       "3                   0                   1\n",
       "4                   0                   1"
      ]
     },
     "execution_count": 154,
     "metadata": {},
     "output_type": "execute_result"
    }
   ],
   "source": [
    "Email_Source_Type_encoded_df.head()"
   ]
  },
  {
   "cell_type": "code",
   "execution_count": 155,
   "metadata": {},
   "outputs": [],
   "source": [
    "df = pd.concat([df, Email_Source_Type_encoded_df], axis=1)\n",
    "df = pd.concat([df, Customer_Location_encoded_df], axis=1)\n",
    "df = pd.concat([df, Email_Campaign_Type_encoded_df], axis=1)\n",
    "df = pd.concat([df, Time_Email_sent_Category_encoded_df], axis=1)\n"
   ]
  },
  {
   "cell_type": "code",
   "execution_count": 156,
   "metadata": {},
   "outputs": [
    {
     "data": {
      "text/plain": [
       "['Email_ID',\n",
       " 'Email_Type',\n",
       " 'Subject_Hotness_Score',\n",
       " 'Email_Source_Type',\n",
       " 'Customer_Location',\n",
       " 'Email_Campaign_Type',\n",
       " 'Total_Past_Communications',\n",
       " 'Time_Email_sent_Category',\n",
       " 'Word_Count',\n",
       " 'Total_Links',\n",
       " 'Total_Images',\n",
       " 'Email_Status',\n",
       " 'conversion',\n",
       " 'Email_Type1',\n",
       " 'Email_Type2',\n",
       " 'Email_Source_Type1',\n",
       " 'Email_Source_Type2',\n",
       " 'Customer_LocationA',\n",
       " 'Customer_LocationB',\n",
       " 'Customer_LocationC',\n",
       " 'Customer_LocationD',\n",
       " 'Customer_LocationE',\n",
       " 'Customer_LocationF',\n",
       " 'Customer_LocationG',\n",
       " 'Customer_Locationunknown',\n",
       " 'Email_Campaign_Type1',\n",
       " 'Email_Campaign_Type2',\n",
       " 'Email_Campaign_Type3',\n",
       " 'Time_Email_sent_Category1',\n",
       " 'Time_Email_sent_Category2',\n",
       " 'Time_Email_sent_Category3']"
      ]
     },
     "execution_count": 156,
     "metadata": {},
     "output_type": "execute_result"
    }
   ],
   "source": [
    "\n",
    "list(df.columns)"
   ]
  },
  {
   "cell_type": "code",
   "execution_count": 157,
   "metadata": {},
   "outputs": [],
   "source": [
    "#create a variable called all_features, which contains all the features, minus email ID and conversion, minus the categorical variables\n",
    "# because the categorical variables are encoded, we will not include them in the all_features variable\n",
    "all_features = list(df.columns)\n",
    "all_features.remove('conversion')\n",
    "all_features.remove('Email_ID')\n",
    "all_features.remove('Email_Type')\n",
    "all_features.remove('Email_Source_Type')\n",
    "all_features.remove('Customer_Location')\n",
    "all_features.remove('Email_Campaign_Type')\n",
    "all_features.remove('Time_Email_sent_Category')\n",
    "all_features.remove('Email_Status')\n"
   ]
  },
  {
   "cell_type": "code",
   "execution_count": 158,
   "metadata": {},
   "outputs": [
    {
     "name": "stdout",
     "output_type": "stream",
     "text": [
      "['Subject_Hotness_Score', 'Total_Past_Communications', 'Word_Count', 'Total_Links', 'Total_Images', 'Email_Type1', 'Email_Type2', 'Email_Source_Type1', 'Email_Source_Type2', 'Customer_LocationA', 'Customer_LocationB', 'Customer_LocationC', 'Customer_LocationD', 'Customer_LocationE', 'Customer_LocationF', 'Customer_LocationG', 'Customer_Locationunknown', 'Email_Campaign_Type1', 'Email_Campaign_Type2', 'Email_Campaign_Type3', 'Time_Email_sent_Category1', 'Time_Email_sent_Category2', 'Time_Email_sent_Category3']\n"
     ]
    }
   ],
   "source": [
    "#list of columns after encoding\n",
    "#Create a variable called `all_features` that is a list of all the variables we want to use in our model.  \n",
    "# This will be all numerical variables and the dummy variables `'Campaign_2','Campaign_3'`.  \n",
    "# Print the variable (i.e., `print(all_features)`)\n",
    "print(all_features)"
   ]
  },
  {
   "cell_type": "markdown",
   "metadata": {},
   "source": [
    "&nbsp;&nbsp;&nbsp;&nbsp;&nbsp;&nbsp;**d.** **(`7.5 pts`)** Split the dataframe into 80% training data and 20% testing data using the `train_test_split` function (see section 3 of the notebook from Chapter 8 for an example of how to do this.) When you pass the data to be split, be sure to add an intercept!  \n",
    "To do this simply pass `sm.add_constant(df[all_features])` (where `sm` is the alias for `statsmodels.api`) instead of just `df[all_features]` (in other words, `df[all_features]` is your modeling dataframe subset to the features you will use to model).  \n",
    "Finally, add the following argument to train_test_split:  `random_state=42`\n",
    "\n",
    "*print the number of rows and columns in all the dataframes you created in this step*"
   ]
  },
  {
   "cell_type": "code",
   "execution_count": 159,
   "metadata": {},
   "outputs": [
    {
     "name": "stderr",
     "output_type": "stream",
     "text": [
      "C:\\Users\\manoj\\anaconda3\\lib\\site-packages\\statsmodels\\tsa\\tsatools.py:142: FutureWarning: In a future version of pandas all arguments of concat except for the argument 'objs' will be keyword-only\n",
      "  x = pd.concat(x[::order], 1)\n"
     ]
    }
   ],
   "source": [
    "#split the dataframe into 80% training and 20% testing data using train_test_split function, be sure to add an intercept column to the training data\n",
    "#add random_statee=42 to ensure that the results are consistent\n",
    "from sklearn.model_selection import train_test_split\n",
    "import statsmodels.api as sm\n",
    "\n",
    "X = sm.add_constant(df[all_features])\n",
    "y = df['conversion']\n",
    "X_train, X_test, y_train, y_test = train_test_split(X, y, test_size=0.20, random_state=42)\n",
    "\n"
   ]
  },
  {
   "cell_type": "code",
   "execution_count": 160,
   "metadata": {},
   "outputs": [
    {
     "name": "stdout",
     "output_type": "stream",
     "text": [
      "(54682, 24)\n",
      "(13671, 24)\n",
      "(54682,)\n",
      "(13671,)\n"
     ]
    }
   ],
   "source": [
    "#print the no. of rows and columns in the training and testing dataframes\n",
    "print(X_train.shape)\n",
    "print(X_test.shape)\n",
    "print(y_train.shape)\n",
    "print(y_test.shape)\n"
   ]
  },
  {
   "cell_type": "markdown",
   "metadata": {},
   "source": [
    "**2.  Build, interpret and score a logistic regression model!** <br>\n",
    "&nbsp;&nbsp;&nbsp;&nbsp;&nbsp;&nbsp;**a.** **(`5 pts`)** Build a Logistic Regression using statsmodels (statsmodels.api) as in Chapter 3.  Only include the *train* data you created in question 1d.<br>"
   ]
  },
  {
   "cell_type": "code",
   "execution_count": 210,
   "metadata": {},
   "outputs": [
    {
     "name": "stdout",
     "output_type": "stream",
     "text": [
      "Optimization terminated successfully.\n",
      "         Current function value: 0.132093\n",
      "         Iterations 8\n"
     ]
    },
    {
     "data": {
      "text/html": [
       "<table class=\"simpletable\">\n",
       "<caption>Logit Regression Results</caption>\n",
       "<tr>\n",
       "  <th>Dep. Variable:</th>      <td>conversion</td>    <th>  No. Observations:  </th>  <td> 54682</td> \n",
       "</tr>\n",
       "<tr>\n",
       "  <th>Model:</th>                 <td>Logit</td>      <th>  Df Residuals:      </th>  <td> 54663</td> \n",
       "</tr>\n",
       "<tr>\n",
       "  <th>Method:</th>                 <td>MLE</td>       <th>  Df Model:          </th>  <td>    18</td> \n",
       "</tr>\n",
       "<tr>\n",
       "  <th>Date:</th>            <td>Mon, 11 Apr 2022</td> <th>  Pseudo R-squ.:     </th>  <td>0.1301</td> \n",
       "</tr>\n",
       "<tr>\n",
       "  <th>Time:</th>                <td>08:36:14</td>     <th>  Log-Likelihood:    </th> <td> -7223.1</td>\n",
       "</tr>\n",
       "<tr>\n",
       "  <th>converged:</th>             <td>True</td>       <th>  LL-Null:           </th> <td> -8303.1</td>\n",
       "</tr>\n",
       "<tr>\n",
       "  <th>Covariance Type:</th>     <td>nonrobust</td>    <th>  LLR p-value:       </th>  <td> 0.000</td> \n",
       "</tr>\n",
       "</table>\n",
       "<table class=\"simpletable\">\n",
       "<tr>\n",
       "              <td></td>                 <th>coef</th>     <th>std err</th>      <th>z</th>      <th>P>|z|</th>  <th>[0.025</th>    <th>0.975]</th>  \n",
       "</tr>\n",
       "<tr>\n",
       "  <th>const</th>                     <td>   -0.9509</td> <td>      nan</td> <td>      nan</td> <td>   nan</td> <td>      nan</td> <td>      nan</td>\n",
       "</tr>\n",
       "<tr>\n",
       "  <th>Subject_Hotness_Score</th>     <td>   -0.1950</td> <td>    0.051</td> <td>   -3.805</td> <td> 0.000</td> <td>   -0.295</td> <td>   -0.095</td>\n",
       "</tr>\n",
       "<tr>\n",
       "  <th>Total_Past_Communications</th> <td>    0.0226</td> <td>    0.002</td> <td>   11.105</td> <td> 0.000</td> <td>    0.019</td> <td>    0.027</td>\n",
       "</tr>\n",
       "<tr>\n",
       "  <th>Word_Count</th>                <td>   -0.0008</td> <td>    0.000</td> <td>   -8.106</td> <td> 0.000</td> <td>   -0.001</td> <td>   -0.001</td>\n",
       "</tr>\n",
       "<tr>\n",
       "  <th>Total_Links</th>               <td>    0.0205</td> <td>    0.005</td> <td>    3.775</td> <td> 0.000</td> <td>    0.010</td> <td>    0.031</td>\n",
       "</tr>\n",
       "<tr>\n",
       "  <th>Total_Images</th>              <td>   -0.0021</td> <td>    0.006</td> <td>   -0.330</td> <td> 0.741</td> <td>   -0.014</td> <td>    0.010</td>\n",
       "</tr>\n",
       "<tr>\n",
       "  <th>Email_Type1</th>               <td>   -0.2810</td> <td>      nan</td> <td>      nan</td> <td>   nan</td> <td>      nan</td> <td>      nan</td>\n",
       "</tr>\n",
       "<tr>\n",
       "  <th>Email_Type2</th>               <td>   -0.6699</td> <td>      nan</td> <td>      nan</td> <td>   nan</td> <td>      nan</td> <td>      nan</td>\n",
       "</tr>\n",
       "<tr>\n",
       "  <th>Email_Source_Type1</th>        <td>   -0.3186</td> <td> 7.07e+05</td> <td> -4.5e-07</td> <td> 1.000</td> <td>-1.39e+06</td> <td> 1.39e+06</td>\n",
       "</tr>\n",
       "<tr>\n",
       "  <th>Email_Source_Type2</th>        <td>   -0.6322</td> <td> 7.07e+05</td> <td>-8.94e-07</td> <td> 1.000</td> <td>-1.39e+06</td> <td> 1.39e+06</td>\n",
       "</tr>\n",
       "<tr>\n",
       "  <th>Customer_LocationA</th>        <td>   -0.0601</td> <td> 1.09e+06</td> <td>-5.51e-08</td> <td> 1.000</td> <td>-2.14e+06</td> <td> 2.14e+06</td>\n",
       "</tr>\n",
       "<tr>\n",
       "  <th>Customer_LocationB</th>        <td>   -0.2756</td> <td> 1.09e+06</td> <td>-2.53e-07</td> <td> 1.000</td> <td>-2.13e+06</td> <td> 2.13e+06</td>\n",
       "</tr>\n",
       "<tr>\n",
       "  <th>Customer_LocationC</th>        <td>   -0.0517</td> <td>  1.1e+06</td> <td>-4.71e-08</td> <td> 1.000</td> <td>-2.15e+06</td> <td> 2.15e+06</td>\n",
       "</tr>\n",
       "<tr>\n",
       "  <th>Customer_LocationD</th>        <td>   -0.1095</td> <td> 1.09e+06</td> <td>-1.01e-07</td> <td> 1.000</td> <td>-2.13e+06</td> <td> 2.13e+06</td>\n",
       "</tr>\n",
       "<tr>\n",
       "  <th>Customer_LocationE</th>        <td>   -0.1602</td> <td> 1.18e+06</td> <td>-1.36e-07</td> <td> 1.000</td> <td>-2.31e+06</td> <td> 2.31e+06</td>\n",
       "</tr>\n",
       "<tr>\n",
       "  <th>Customer_LocationF</th>        <td>   -0.0771</td> <td> 1.04e+06</td> <td>-7.38e-08</td> <td> 1.000</td> <td>-2.05e+06</td> <td> 2.05e+06</td>\n",
       "</tr>\n",
       "<tr>\n",
       "  <th>Customer_LocationG</th>        <td>   -0.0693</td> <td>  1.1e+06</td> <td>-6.32e-08</td> <td> 1.000</td> <td>-2.15e+06</td> <td> 2.15e+06</td>\n",
       "</tr>\n",
       "<tr>\n",
       "  <th>Customer_Locationunknown</th>  <td>   -0.1474</td> <td> 1.04e+06</td> <td>-1.42e-07</td> <td> 1.000</td> <td>-2.03e+06</td> <td> 2.03e+06</td>\n",
       "</tr>\n",
       "<tr>\n",
       "  <th>Email_Campaign_Type1</th>      <td>    1.6831</td> <td>      nan</td> <td>      nan</td> <td>   nan</td> <td>      nan</td> <td>      nan</td>\n",
       "</tr>\n",
       "<tr>\n",
       "  <th>Email_Campaign_Type2</th>      <td>   -2.0488</td> <td>      nan</td> <td>      nan</td> <td>   nan</td> <td>      nan</td> <td>      nan</td>\n",
       "</tr>\n",
       "<tr>\n",
       "  <th>Email_Campaign_Type3</th>      <td>   -0.5852</td> <td>      nan</td> <td>      nan</td> <td>   nan</td> <td>      nan</td> <td>      nan</td>\n",
       "</tr>\n",
       "<tr>\n",
       "  <th>Time_Email_sent_Category1</th> <td>   -0.3073</td> <td>      nan</td> <td>      nan</td> <td>   nan</td> <td>      nan</td> <td>      nan</td>\n",
       "</tr>\n",
       "<tr>\n",
       "  <th>Time_Email_sent_Category2</th> <td>   -0.3304</td> <td>      nan</td> <td>      nan</td> <td>   nan</td> <td>      nan</td> <td>      nan</td>\n",
       "</tr>\n",
       "<tr>\n",
       "  <th>Time_Email_sent_Category3</th> <td>   -0.3133</td> <td>      nan</td> <td>      nan</td> <td>   nan</td> <td>      nan</td> <td>      nan</td>\n",
       "</tr>\n",
       "</table>"
      ],
      "text/plain": [
       "<class 'statsmodels.iolib.summary.Summary'>\n",
       "\"\"\"\n",
       "                           Logit Regression Results                           \n",
       "==============================================================================\n",
       "Dep. Variable:             conversion   No. Observations:                54682\n",
       "Model:                          Logit   Df Residuals:                    54663\n",
       "Method:                           MLE   Df Model:                           18\n",
       "Date:                Mon, 11 Apr 2022   Pseudo R-squ.:                  0.1301\n",
       "Time:                        08:36:14   Log-Likelihood:                -7223.1\n",
       "converged:                       True   LL-Null:                       -8303.1\n",
       "Covariance Type:            nonrobust   LLR p-value:                     0.000\n",
       "=============================================================================================\n",
       "                                coef    std err          z      P>|z|      [0.025      0.975]\n",
       "---------------------------------------------------------------------------------------------\n",
       "const                        -0.9509        nan        nan        nan         nan         nan\n",
       "Subject_Hotness_Score        -0.1950      0.051     -3.805      0.000      -0.295      -0.095\n",
       "Total_Past_Communications     0.0226      0.002     11.105      0.000       0.019       0.027\n",
       "Word_Count                   -0.0008      0.000     -8.106      0.000      -0.001      -0.001\n",
       "Total_Links                   0.0205      0.005      3.775      0.000       0.010       0.031\n",
       "Total_Images                 -0.0021      0.006     -0.330      0.741      -0.014       0.010\n",
       "Email_Type1                  -0.2810        nan        nan        nan         nan         nan\n",
       "Email_Type2                  -0.6699        nan        nan        nan         nan         nan\n",
       "Email_Source_Type1           -0.3186   7.07e+05   -4.5e-07      1.000   -1.39e+06    1.39e+06\n",
       "Email_Source_Type2           -0.6322   7.07e+05  -8.94e-07      1.000   -1.39e+06    1.39e+06\n",
       "Customer_LocationA           -0.0601   1.09e+06  -5.51e-08      1.000   -2.14e+06    2.14e+06\n",
       "Customer_LocationB           -0.2756   1.09e+06  -2.53e-07      1.000   -2.13e+06    2.13e+06\n",
       "Customer_LocationC           -0.0517    1.1e+06  -4.71e-08      1.000   -2.15e+06    2.15e+06\n",
       "Customer_LocationD           -0.1095   1.09e+06  -1.01e-07      1.000   -2.13e+06    2.13e+06\n",
       "Customer_LocationE           -0.1602   1.18e+06  -1.36e-07      1.000   -2.31e+06    2.31e+06\n",
       "Customer_LocationF           -0.0771   1.04e+06  -7.38e-08      1.000   -2.05e+06    2.05e+06\n",
       "Customer_LocationG           -0.0693    1.1e+06  -6.32e-08      1.000   -2.15e+06    2.15e+06\n",
       "Customer_Locationunknown     -0.1474   1.04e+06  -1.42e-07      1.000   -2.03e+06    2.03e+06\n",
       "Email_Campaign_Type1          1.6831        nan        nan        nan         nan         nan\n",
       "Email_Campaign_Type2         -2.0488        nan        nan        nan         nan         nan\n",
       "Email_Campaign_Type3         -0.5852        nan        nan        nan         nan         nan\n",
       "Time_Email_sent_Category1    -0.3073        nan        nan        nan         nan         nan\n",
       "Time_Email_sent_Category2    -0.3304        nan        nan        nan         nan         nan\n",
       "Time_Email_sent_Category3    -0.3133        nan        nan        nan         nan         nan\n",
       "=============================================================================================\n",
       "\"\"\""
      ]
     },
     "execution_count": 210,
     "metadata": {},
     "output_type": "execute_result"
    }
   ],
   "source": [
    "logit = sm.Logit(\n",
    "    y_train, \n",
    "    X_train\n",
    ")\n",
    "\n",
    "logit_fit = logit.fit()\n",
    "logit_fit.summary()"
   ]
  },
  {
   "cell_type": "code",
   "execution_count": 320,
   "metadata": {},
   "outputs": [
    {
     "name": "stdout",
     "output_type": "stream",
     "text": [
      "0.0\n",
      "0.01\n",
      "0.02\n",
      "0.03\n",
      "0.04\n"
     ]
    }
   ],
   "source": [
    "from sklearn.metrics import accuracy_score, precision_score, recall_score\n",
    "from sklearn.metrics import roc_curve, auc\n",
    "\n",
    "df_train=pd.DataFrame(columns=['threshold','prediction','probability','conversion'])\n",
    "for threshold in np.arange(0, 0.05, 0.01):\n",
    "    print(threshold)"
   ]
  },
  {
   "cell_type": "code",
   "execution_count": 332,
   "metadata": {},
   "outputs": [
    {
     "name": "stderr",
     "output_type": "stream",
     "text": [
      "C:\\Users\\manoj\\anaconda3\\lib\\site-packages\\sklearn\\metrics\\_classification.py:1318: UndefinedMetricWarning: Precision is ill-defined and being set to 0.0 due to no predicted samples. Use `zero_division` parameter to control this behavior.\n",
      "  _warn_prf(average, modifier, msg_start, len(result))\n",
      "C:\\Users\\manoj\\anaconda3\\lib\\site-packages\\sklearn\\metrics\\_classification.py:1318: UndefinedMetricWarning: Precision is ill-defined and being set to 0.0 due to no predicted samples. Use `zero_division` parameter to control this behavior.\n",
      "  _warn_prf(average, modifier, msg_start, len(result))\n",
      "C:\\Users\\manoj\\anaconda3\\lib\\site-packages\\sklearn\\metrics\\_classification.py:1318: UndefinedMetricWarning: Precision is ill-defined and being set to 0.0 due to no predicted samples. Use `zero_division` parameter to control this behavior.\n",
      "  _warn_prf(average, modifier, msg_start, len(result))\n",
      "C:\\Users\\manoj\\anaconda3\\lib\\site-packages\\sklearn\\metrics\\_classification.py:1318: UndefinedMetricWarning: Precision is ill-defined and being set to 0.0 due to no predicted samples. Use `zero_division` parameter to control this behavior.\n",
      "  _warn_prf(average, modifier, msg_start, len(result))\n",
      "C:\\Users\\manoj\\anaconda3\\lib\\site-packages\\sklearn\\metrics\\_classification.py:1318: UndefinedMetricWarning: Precision is ill-defined and being set to 0.0 due to no predicted samples. Use `zero_division` parameter to control this behavior.\n",
      "  _warn_prf(average, modifier, msg_start, len(result))\n",
      "C:\\Users\\manoj\\anaconda3\\lib\\site-packages\\sklearn\\metrics\\_classification.py:1318: UndefinedMetricWarning: Precision is ill-defined and being set to 0.0 due to no predicted samples. Use `zero_division` parameter to control this behavior.\n",
      "  _warn_prf(average, modifier, msg_start, len(result))\n"
     ]
    }
   ],
   "source": [
    "in_sample_preds = logit_fit.predict(X_train)\n",
    "out_sample_preds = logit_fit.predict(X_test)\n",
    "\n",
    "df_train_array = pd.DataFrame(columns=['threshold','insample accuracy','insample precision', 'insample recall', 'insample auc', 'outsample accuracy','outsample precision', 'outsample recall', 'outsample auc'])\n",
    "for threshold in np.arange(0.01, 0.45, 0.01):\n",
    "    a=accuracy_score(y_train, in_sample_preds > threshold)\n",
    "    b=precision_score(y_train, in_sample_preds > threshold)\n",
    "    c=recall_score(y_train, in_sample_preds > threshold)\n",
    "    d=0 # auc(y_train, in_sample_preds > threshold)\n",
    "    e=accuracy_score(y_test, out_sample_preds > threshold)\n",
    "    f=precision_score(y_test, out_sample_preds > threshold)\n",
    "    g=recall_score(y_test, out_sample_preds > threshold)\n",
    "    h= 0 # auc(y_test, out_sample_preds > threshold)\n",
    "    df_train_array = pd.concat([pd.DataFrame([[threshold,a,b,c,d,e,f,g,h]], columns=df_train_array.columns), df_train_array])"
   ]
  },
  {
   "cell_type": "code",
   "execution_count": 333,
   "metadata": {},
   "outputs": [
    {
     "name": "stdout",
     "output_type": "stream",
     "text": [
      "   threshold  insample accuracy  insample precision  insample recall  \\\n",
      "0       0.44           0.964961            0.000000         0.000000   \n",
      "0       0.43           0.964961            0.000000         0.000000   \n",
      "0       0.42           0.964943            0.000000         0.000000   \n",
      "0       0.41           0.964924            0.000000         0.000000   \n",
      "0       0.40           0.964906            0.200000         0.000522   \n",
      "0       0.39           0.964888            0.300000         0.001566   \n",
      "0       0.38           0.964870            0.307692         0.002088   \n",
      "0       0.37           0.964851            0.312500         0.002610   \n",
      "0       0.36           0.964778            0.250000         0.002610   \n",
      "0       0.35           0.964705            0.250000         0.003653   \n",
      "0       0.34           0.964632            0.275000         0.005741   \n",
      "0       0.33           0.964504            0.280702         0.008351   \n",
      "0       0.32           0.964339            0.257143         0.009395   \n",
      "0       0.31           0.964266            0.284091         0.013048   \n",
      "0       0.30           0.963919            0.247788         0.014614   \n",
      "0       0.29           0.963809            0.266667         0.018789   \n",
      "0       0.28           0.963571            0.259494         0.021399   \n",
      "0       0.27           0.963297            0.256684         0.025052   \n",
      "0       0.26           0.962931            0.253333         0.029749   \n",
      "0       0.25           0.962419            0.250896         0.036534   \n",
      "0       0.24           0.961596            0.234104         0.042276   \n",
      "0       0.23           0.960865            0.237089         0.052714   \n",
      "0       0.22           0.959548            0.217557         0.059499   \n",
      "0       0.21           0.958359            0.204583         0.065240   \n",
      "0       0.20           0.956787            0.198381         0.076722   \n",
      "0       0.19           0.955232            0.190698         0.085595   \n",
      "0       0.18           0.952891            0.179612         0.096555   \n",
      "0       0.17           0.950624            0.181301         0.116388   \n",
      "0       0.16           0.947442            0.177658         0.137787   \n",
      "0       0.15           0.943071            0.171695         0.163361   \n",
      "0       0.14           0.938865            0.172556         0.196242   \n",
      "0       0.13           0.933452            0.166989         0.225470   \n",
      "0       0.12           0.925716            0.156090         0.254175   \n",
      "0       0.11           0.916956            0.151209         0.296973   \n",
      "0       0.10           0.905709            0.142700         0.337683   \n",
      "0       0.09           0.892012            0.136504         0.390919   \n",
      "0       0.08           0.875297            0.129066         0.445198   \n",
      "0       0.07           0.854340            0.119129         0.493737   \n",
      "0       0.06           0.829761            0.111099         0.551148   \n",
      "0       0.05           0.799587            0.103342         0.614823   \n",
      "0       0.04           0.761695            0.095200         0.682150   \n",
      "0       0.03           0.702919            0.084450         0.759916   \n",
      "0       0.02           0.588768            0.068326         0.849687   \n",
      "0       0.01           0.289839            0.045256         0.958768   \n",
      "\n",
      "  insample auc  outsample accuracy  outsample precision  outsample recall  \\\n",
      "0            0            0.966572             0.000000          0.000000   \n",
      "0            0            0.966572             0.000000          0.000000   \n",
      "0            0            0.966572             0.000000          0.000000   \n",
      "0            0            0.966572             0.000000          0.000000   \n",
      "0            0            0.966645             1.000000          0.002188   \n",
      "0            0            0.966572             0.500000          0.002188   \n",
      "0            0            0.966572             0.500000          0.002188   \n",
      "0            0            0.966572             0.500000          0.002188   \n",
      "0            0            0.966352             0.285714          0.004376   \n",
      "0            0            0.966206             0.222222          0.004376   \n",
      "0            0            0.966133             0.250000          0.006565   \n",
      "0            0            0.966060             0.230769          0.006565   \n",
      "0            0            0.965986             0.214286          0.006565   \n",
      "0            0            0.965986             0.277778          0.010941   \n",
      "0            0            0.965621             0.217391          0.010941   \n",
      "0            0            0.965621             0.290323          0.019694   \n",
      "0            0            0.965255             0.250000          0.019694   \n",
      "0            0            0.964962             0.238095          0.021882   \n",
      "0            0            0.964743             0.254902          0.028446   \n",
      "0            0            0.964377             0.265625          0.037199   \n",
      "0            0            0.963573             0.240506          0.041575   \n",
      "0            0            0.962841             0.231579          0.048140   \n",
      "0            0            0.962036             0.237288          0.061269   \n",
      "0            0            0.961744             0.260870          0.078775   \n",
      "0            0            0.960208             0.239521          0.087527   \n",
      "0            0            0.957867             0.215311          0.098468   \n",
      "0            0            0.955526             0.203922          0.113786   \n",
      "0            0            0.952747             0.188119          0.124726   \n",
      "0            0            0.950187             0.181818          0.140044   \n",
      "0            0            0.946017             0.163070          0.148796   \n",
      "0            0            0.941482             0.157685          0.172867   \n",
      "0            0            0.934314             0.143780          0.194748   \n",
      "0            0            0.927364             0.142667          0.234136   \n",
      "0            0            0.918294             0.141304          0.284464   \n",
      "0            0            0.905201             0.132340          0.330416   \n",
      "0            0            0.891303             0.125273          0.376368   \n",
      "0            0            0.875283             0.120438          0.433260   \n",
      "0            0            0.853851             0.113784          0.496718   \n",
      "0            0            0.830517             0.103242          0.529540   \n",
      "0            0            0.795699             0.092179          0.577681   \n",
      "0            0            0.755321             0.083862          0.636761   \n",
      "0            0            0.698266             0.076639          0.726477   \n",
      "0            0            0.586570             0.063958          0.833698   \n",
      "0            0            0.287616             0.043209          0.960613   \n",
      "\n",
      "  outsample auc  \n",
      "0             0  \n",
      "0             0  \n",
      "0             0  \n",
      "0             0  \n",
      "0             0  \n",
      "0             0  \n",
      "0             0  \n",
      "0             0  \n",
      "0             0  \n",
      "0             0  \n",
      "0             0  \n",
      "0             0  \n",
      "0             0  \n",
      "0             0  \n",
      "0             0  \n",
      "0             0  \n",
      "0             0  \n",
      "0             0  \n",
      "0             0  \n",
      "0             0  \n",
      "0             0  \n",
      "0             0  \n",
      "0             0  \n",
      "0             0  \n",
      "0             0  \n",
      "0             0  \n",
      "0             0  \n",
      "0             0  \n",
      "0             0  \n",
      "0             0  \n",
      "0             0  \n",
      "0             0  \n",
      "0             0  \n",
      "0             0  \n",
      "0             0  \n",
      "0             0  \n",
      "0             0  \n",
      "0             0  \n",
      "0             0  \n",
      "0             0  \n",
      "0             0  \n",
      "0             0  \n",
      "0             0  \n",
      "0             0  \n"
     ]
    }
   ],
   "source": [
    "    \n",
    "print(df_train_array)\n",
    "\n",
    "#for loop for threshold = 0.01 to 0.99 in increments of 0.01\n",
    "#for threshold in np.arange(0, 1, 0.01):\n",
    "\n"
   ]
  },
  {
   "cell_type": "code",
   "execution_count": 298,
   "metadata": {},
   "outputs": [
    {
     "name": "stdout",
     "output_type": "stream",
     "text": [
      "In-Sample Accuracy: 0.9057\n",
      "Out-of-Sample Accuracy: 0.9052\n"
     ]
    }
   ],
   "source": [
    "print('In-Sample Accuracy: %0.4f' % accuracy_score(y_train, in_sample_preds))\n",
    "print('Out-of-Sample Accuracy: %0.4f' % accuracy_score(y_test, out_sample_preds))\n",
    "print('In-Sample Precision: %0.4f' % precision_score(y_train, in_sample_preds))\n",
    "print('Out-of-Sample Precision: %0.4f' % precision_score(y_test, out_sample_preds))\n",
    "print('In-Sample Recall: %0.4f' % recall_score(y_train, in_sample_preds))\n",
    "print('Out-of-Sample Recall: %0.4f' % recall_score(y_test, out_sample_preds))"
   ]
  },
  {
   "cell_type": "code",
   "execution_count": 299,
   "metadata": {},
   "outputs": [
    {
     "name": "stdout",
     "output_type": "stream",
     "text": [
      "In-Sample Precision: 0.1427\n",
      "Out-of-Sample Precision: 0.1323\n"
     ]
    }
   ],
   "source": [
    "print('In-Sample Precision: %0.4f' % precision_score(y_train, in_sample_preds))\n",
    "print('Out-of-Sample Precision: %0.4f' % precision_score(y_test, out_sample_preds))"
   ]
  },
  {
   "cell_type": "code",
   "execution_count": 300,
   "metadata": {},
   "outputs": [
    {
     "name": "stdout",
     "output_type": "stream",
     "text": [
      "In-Sample Recall: 0.3377\n",
      "Out-of-Sample Recall: 0.3304\n"
     ]
    }
   ],
   "source": [
    "print('In-Sample Recall: %0.4f' % recall_score(y_train, in_sample_preds))\n",
    "print('Out-of-Sample Recall: %0.4f' % recall_score(y_test, out_sample_preds))"
   ]
  },
  {
   "cell_type": "code",
   "execution_count": 291,
   "metadata": {},
   "outputs": [],
   "source": [
    "in_sample_fpr, in_sample_tpr, in_sample_thresholds = roc_curve(y_train, in_sample_preds)\n",
    "out_sample_fpr, out_sample_tpr, out_sample_thresholds = roc_curve(y_test, out_sample_preds)"
   ]
  },
  {
   "cell_type": "code",
   "execution_count": 296,
   "metadata": {},
   "outputs": [
    {
     "name": "stdout",
     "output_type": "stream",
     "text": [
      "In-Sample AUC: 0.7145\n",
      "Out-Sample AUC: 0.7059\n",
      "[2 1 0]\n"
     ]
    }
   ],
   "source": [
    "in_sample_roc_auc = auc(in_sample_fpr, in_sample_tpr)\n",
    "out_sample_roc_auc = auc(out_sample_fpr, out_sample_tpr)\n",
    "\n",
    "print('In-Sample AUC: %0.4f' % in_sample_roc_auc)\n",
    "print('Out-Sample AUC: %0.4f' % out_sample_roc_auc)\n",
    "print(in_sample_thresholds)"
   ]
  },
  {
   "cell_type": "code",
   "execution_count": 237,
   "metadata": {},
   "outputs": [
    {
     "data": {
      "text/html": [
       "<div>\n",
       "<style scoped>\n",
       "    .dataframe tbody tr th:only-of-type {\n",
       "        vertical-align: middle;\n",
       "    }\n",
       "\n",
       "    .dataframe tbody tr th {\n",
       "        vertical-align: top;\n",
       "    }\n",
       "\n",
       "    .dataframe thead th {\n",
       "        text-align: right;\n",
       "    }\n",
       "</style>\n",
       "<table border=\"1\" class=\"dataframe\">\n",
       "  <thead>\n",
       "    <tr style=\"text-align: right;\">\n",
       "      <th></th>\n",
       "      <th>coef</th>\n",
       "      <th>std err</th>\n",
       "      <th>z</th>\n",
       "      <th>P&gt;|z|</th>\n",
       "      <th>[0.025</th>\n",
       "      <th>0.975]</th>\n",
       "    </tr>\n",
       "  </thead>\n",
       "  <tbody>\n",
       "    <tr>\n",
       "      <th>const</th>\n",
       "      <td>-0.9509</td>\n",
       "      <td>NaN</td>\n",
       "      <td>NaN</td>\n",
       "      <td>NaN</td>\n",
       "      <td>NaN</td>\n",
       "      <td>NaN</td>\n",
       "    </tr>\n",
       "    <tr>\n",
       "      <th>Subject_Hotness_Score</th>\n",
       "      <td>-0.1950</td>\n",
       "      <td>0.051</td>\n",
       "      <td>-3.805</td>\n",
       "      <td>0.0</td>\n",
       "      <td>-0.295</td>\n",
       "      <td>-0.095</td>\n",
       "    </tr>\n",
       "    <tr>\n",
       "      <th>Total_Past_Communications</th>\n",
       "      <td>0.0226</td>\n",
       "      <td>0.002</td>\n",
       "      <td>11.105</td>\n",
       "      <td>0.0</td>\n",
       "      <td>0.019</td>\n",
       "      <td>0.027</td>\n",
       "    </tr>\n",
       "    <tr>\n",
       "      <th>Word_Count</th>\n",
       "      <td>-0.0008</td>\n",
       "      <td>0.000</td>\n",
       "      <td>-8.106</td>\n",
       "      <td>0.0</td>\n",
       "      <td>-0.001</td>\n",
       "      <td>-0.001</td>\n",
       "    </tr>\n",
       "    <tr>\n",
       "      <th>Total_Links</th>\n",
       "      <td>0.0205</td>\n",
       "      <td>0.005</td>\n",
       "      <td>3.775</td>\n",
       "      <td>0.0</td>\n",
       "      <td>0.010</td>\n",
       "      <td>0.031</td>\n",
       "    </tr>\n",
       "  </tbody>\n",
       "</table>\n",
       "</div>"
      ],
      "text/plain": [
       "                             coef  std err       z  P>|z|  [0.025  0.975]\n",
       "const                     -0.9509      NaN     NaN    NaN     NaN     NaN\n",
       "Subject_Hotness_Score     -0.1950    0.051  -3.805    0.0  -0.295  -0.095\n",
       "Total_Past_Communications  0.0226    0.002  11.105    0.0   0.019   0.027\n",
       "Word_Count                -0.0008    0.000  -8.106    0.0  -0.001  -0.001\n",
       "Total_Links                0.0205    0.005   3.775    0.0   0.010   0.031"
      ]
     },
     "execution_count": 237,
     "metadata": {},
     "output_type": "execute_result"
    }
   ],
   "source": [
    "logit_df=pd.read_html(logit_fit.summary().tables[1].as_html(),header=0, index_col=0)\n",
    "logit_df[0].head(5)\n",
    "logit_df=logit_df[0]\n",
    "\n",
    "logit_df.head()"
   ]
  },
  {
   "cell_type": "code",
   "execution_count": 293,
   "metadata": {},
   "outputs": [
    {
     "data": {
      "image/png": "[encoded data removed]",
      "text/plain": [
       "<Figure size 720x504 with 1 Axes>"
      ]
     },
     "metadata": {
      "needs_background": "light"
     },
     "output_type": "display_data"
    }
   ],
   "source": [
    "plt.figure(figsize=(10,7))\n",
    "\n",
    "plt.plot(\n",
    "    out_sample_fpr, out_sample_tpr, color='darkorange', label='Out-Sample ROC curve (area = %0.4f)' % in_sample_roc_auc\n",
    ")\n",
    "plt.plot(\n",
    "    in_sample_fpr, in_sample_tpr, color='navy', label='In-Sample ROC curve (area = %0.4f)' % out_sample_roc_auc\n",
    ")\n",
    "plt.plot([0, 1], [0, 1], color='gray', lw=1, linestyle='--')\n",
    "plt.grid()\n",
    "plt.xlim([0.0, 1.0])\n",
    "plt.ylim([0.0, 1.05])\n",
    "plt.xlabel('False Positive Rate')\n",
    "plt.ylabel('True Positive Rate')\n",
    "plt.title('RandomForest Model ROC Curve')\n",
    "plt.legend(loc=\"lower right\")\n",
    "\n",
    "plt.show()"
   ]
  },
  {
   "cell_type": "markdown",
   "metadata": {},
   "source": [
    "&nbsp;&nbsp;&nbsp;&nbsp;&nbsp;&nbsp;**b.**  Using the Model Summary answer the following questions <br>Remember:  `Campaign_2` & `Campaign_3` are encoded in relation to `Campaign_1`, when interpretting them remember to mention that their effect is relative to `Campaign_1`).\n",
    "<br>You can provide your answer as a comment (`# Anything following a hash mark is a comment`) or in any other manner you like."
   ]
  },
  {
   "cell_type": "markdown",
   "metadata": {},
   "source": [
    "\n",
    "&nbsp;&nbsp;&nbsp;&nbsp;&nbsp;&nbsp;&nbsp;&nbsp;&nbsp;&nbsp;&nbsp;&nbsp;**i.** **(`3 pts`)**which variables have a statistically significant positive correlation with the target\n",
    "<br>"
   ]
  },
  {
   "cell_type": "code",
   "execution_count": 246,
   "metadata": {},
   "outputs": [
    {
     "data": {
      "text/html": [
       "<div>\n",
       "<style scoped>\n",
       "    .dataframe tbody tr th:only-of-type {\n",
       "        vertical-align: middle;\n",
       "    }\n",
       "\n",
       "    .dataframe tbody tr th {\n",
       "        vertical-align: top;\n",
       "    }\n",
       "\n",
       "    .dataframe thead th {\n",
       "        text-align: right;\n",
       "    }\n",
       "</style>\n",
       "<table border=\"1\" class=\"dataframe\">\n",
       "  <thead>\n",
       "    <tr style=\"text-align: right;\">\n",
       "      <th></th>\n",
       "      <th>coef</th>\n",
       "      <th>std err</th>\n",
       "      <th>z</th>\n",
       "      <th>P&gt;|z|</th>\n",
       "      <th>[0.025</th>\n",
       "      <th>0.975]</th>\n",
       "    </tr>\n",
       "  </thead>\n",
       "  <tbody>\n",
       "    <tr>\n",
       "      <th>Total_Past_Communications</th>\n",
       "      <td>0.0226</td>\n",
       "      <td>0.002</td>\n",
       "      <td>11.105</td>\n",
       "      <td>0.0</td>\n",
       "      <td>0.019</td>\n",
       "      <td>0.027</td>\n",
       "    </tr>\n",
       "    <tr>\n",
       "      <th>Total_Links</th>\n",
       "      <td>0.0205</td>\n",
       "      <td>0.005</td>\n",
       "      <td>3.775</td>\n",
       "      <td>0.0</td>\n",
       "      <td>0.010</td>\n",
       "      <td>0.031</td>\n",
       "    </tr>\n",
       "  </tbody>\n",
       "</table>\n",
       "</div>"
      ],
      "text/plain": [
       "                             coef  std err       z  P>|z|  [0.025  0.975]\n",
       "Total_Past_Communications  0.0226    0.002  11.105    0.0   0.019   0.027\n",
       "Total_Links                0.0205    0.005   3.775    0.0   0.010   0.031"
      ]
     },
     "execution_count": 246,
     "metadata": {},
     "output_type": "execute_result"
    }
   ],
   "source": [
    "#print the coefficients of the model which are statistically significant and have a positive correlation with the target\n",
    "\n",
    "logit_df[(logit_df['P>|z|']<0.05) & (logit_df['coef']>0)]\n",
    "\n",
    "\n",
    "#As we can see, the \"Total_Past_Communications\"  and \"Total_Links\" variables have a positive correlation with the target variable \n",
    "# and are also statistically significant(p<0.05). "
   ]
  },
  {
   "cell_type": "markdown",
   "metadata": {},
   "source": [
    "&nbsp;&nbsp;&nbsp;&nbsp;&nbsp;&nbsp;&nbsp;&nbsp;&nbsp;&nbsp;&nbsp;&nbsp;**ii.** **(`3 pts`)**\n",
    "which variables have a statistically significant negative correlation with the target?"
   ]
  },
  {
   "cell_type": "code",
   "execution_count": 247,
   "metadata": {},
   "outputs": [
    {
     "data": {
      "text/html": [
       "<div>\n",
       "<style scoped>\n",
       "    .dataframe tbody tr th:only-of-type {\n",
       "        vertical-align: middle;\n",
       "    }\n",
       "\n",
       "    .dataframe tbody tr th {\n",
       "        vertical-align: top;\n",
       "    }\n",
       "\n",
       "    .dataframe thead th {\n",
       "        text-align: right;\n",
       "    }\n",
       "</style>\n",
       "<table border=\"1\" class=\"dataframe\">\n",
       "  <thead>\n",
       "    <tr style=\"text-align: right;\">\n",
       "      <th></th>\n",
       "      <th>coef</th>\n",
       "      <th>std err</th>\n",
       "      <th>z</th>\n",
       "      <th>P&gt;|z|</th>\n",
       "      <th>[0.025</th>\n",
       "      <th>0.975]</th>\n",
       "    </tr>\n",
       "  </thead>\n",
       "  <tbody>\n",
       "    <tr>\n",
       "      <th>Subject_Hotness_Score</th>\n",
       "      <td>-0.1950</td>\n",
       "      <td>0.051</td>\n",
       "      <td>-3.805</td>\n",
       "      <td>0.0</td>\n",
       "      <td>-0.295</td>\n",
       "      <td>-0.095</td>\n",
       "    </tr>\n",
       "    <tr>\n",
       "      <th>Word_Count</th>\n",
       "      <td>-0.0008</td>\n",
       "      <td>0.000</td>\n",
       "      <td>-8.106</td>\n",
       "      <td>0.0</td>\n",
       "      <td>-0.001</td>\n",
       "      <td>-0.001</td>\n",
       "    </tr>\n",
       "  </tbody>\n",
       "</table>\n",
       "</div>"
      ],
      "text/plain": [
       "                         coef  std err      z  P>|z|  [0.025  0.975]\n",
       "Subject_Hotness_Score -0.1950    0.051 -3.805    0.0  -0.295  -0.095\n",
       "Word_Count            -0.0008    0.000 -8.106    0.0  -0.001  -0.001"
      ]
     },
     "execution_count": 247,
     "metadata": {},
     "output_type": "execute_result"
    }
   ],
   "source": [
    "#print the coefficients of the model which are statistically significant and have a negative correlation with the target\n",
    "\n",
    "logit_df[(logit_df['P>|z|']<0.05) & (logit_df['coef']<0)]\n",
    "\n",
    "\n",
    "#As we can see, the \"Subject_Hotness_Score\"  and \"Word_Count\" variables have a negative correlation with the target variable \n",
    "# and are also statistically significant (p<0.05). "
   ]
  },
  {
   "cell_type": "markdown",
   "metadata": {},
   "source": [
    "&nbsp;&nbsp;&nbsp;&nbsp;&nbsp;&nbsp;&nbsp;&nbsp;&nbsp;&nbsp;&nbsp;&nbsp;**iii.** **(`4 pts`)**\n",
    "What suggestions can you make based on these results? "
   ]
  },
  {
   "cell_type": "code",
   "execution_count": null,
   "metadata": {},
   "outputs": [],
   "source": [
    "#based on these variable coefficients, suggestions would be:\n",
    "#1. Increase the \"Total_Past_Communications\" and \"Total_Links\" - meaning send more emails to get more conversions\n",
    "#2. Decrease the \"Subject_Hotness_Score\" and \"Word_Count\" - Communication should have fewer words and less subject hotness"
   ]
  },
  {
   "cell_type": "markdown",
   "metadata": {},
   "source": [
    "&nbsp;&nbsp;&nbsp;&nbsp;&nbsp;&nbsp;**c.** **(`5 pts`)** Use your model to get predictions using the test data.  Remember that your fit model is the result of the `.fit()` call (e.g., `my_fit = my_model.fit()`).  The resulting object has a `.predict` method (e.g., `my_fit.predict()`) that will generate predictions using your model on the specified data.  <br>Get predictions by applying the model you just fit to the _test_ data.  Save the predictions to a variable.<br>"
   ]
  },
  {
   "cell_type": "code",
   "execution_count": null,
   "metadata": {},
   "outputs": [],
   "source": []
  },
  {
   "cell_type": "markdown",
   "metadata": {},
   "source": [
    "&nbsp;&nbsp;&nbsp;&nbsp;&nbsp;&nbsp;**d.**  **(`5 pts`)** The ROC AUC score informs you as to how good your model is at telling which emails are more likely to result in conversions than others. You can use the Scikit-Learn function `sklearn.metrics.roc_auc_score` to compute this. This function has two inputs: predictions and the actual value from the data.  You already have both of these variables. *You may want to take a look at Chapter 8's Notebook for more details on this metric*"
   ]
  },
  {
   "cell_type": "code",
   "execution_count": null,
   "metadata": {},
   "outputs": [],
   "source": []
  }
 ],
 "metadata": {
  "application/vnd.databricks.v1+notebook": {
   "dashboards": [],
   "language": "python",
   "notebookName": "coding challenge",
   "notebookOrigID": 3716877220258601,
   "widgets": {}
  },
  "kernelspec": {
   "display_name": "Python 3 (ipykernel)",
   "language": "python",
   "name": "python3"
  },
  "language_info": {
   "codemirror_mode": {
    "name": "ipython",
    "version": 3
   },
   "file_extension": ".py",
   "mimetype": "text/x-python",
   "name": "python",
   "nbconvert_exporter": "python",
   "pygments_lexer": "ipython3",
   "version": "3.9.7"
  }
 },
 "nbformat": 4,
 "nbformat_minor": 1
}
